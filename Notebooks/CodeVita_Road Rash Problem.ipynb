{
 "cells": [
  {
   "cell_type": "markdown",
   "metadata": {},
   "source": [
    "# Road Rash Problem.\n",
    "- Prepared by: <a href = 'https://github.com/sagsshakya'> Sagun Shakya </a>\n",
    "- MSc. Data Science\n",
    "- GITAM Institute of Science, Visakhapatnam.\n",
    "- Email: sags.shakya@gmail.com\n"
   ]
  },
  {
   "cell_type": "markdown",
   "metadata": {},
   "source": [
    "<p>\n",
    "On a busy road, multiple cars are passing by. A simulation is run to see what happens if brakes fail for all cars on the road. The only way for them to be safe is if they don't collide and pass by each other. The goal is to identify whether any of the given cars would collide or pass by each other safely around a Roundabout. Think of this as a reference point O ( Origin with coordinates (0,0) ), but instead of going around it, cars pass through it.\n",
    "\n",
    "Considering that each car is moving in a straight line towards the origin with individual uniform speed. Cars will continue to travel in that same straight line even after crossing origin. Calculate the number of collisions that will happen in such a scenario.\n",
    "\n",
    "Calculate collisions only at origin. Ignore the other collisions. Assume that each car continues on its respective path even after the collision without change of direction or speed for an infinite distance.\n",
    "\n",
    "- Constraints<br>\n",
    "    - 1<=C<=10^5<br>\n",
    "    - -10^9 <= x,y <= 10^9<br>\n",
    "    - 0 < v < 10^9.<br>\n",
    "- Input Format<br>\n",
    "    - The first line contains an integer C, denoting the number of cars being considered that are passing by around the origin.\n",
    "    - Next C lines contain 3 space delimited values, first two of them being for position coordinates (x,y) in 2D space and the third one for speed (v).\n",
    "<br>Output\n",
    "- A single integer Q denoting the number of collisions at origin possible for given set of cars.\n",
    "<br>Example <br>\n",
    "- Input 1<br>\n",
    "5<br>\n",
    "5 12 1<br>\n",
    "16 63 5<br>\n",
    "-10 24 2<br>\n",
    "7 24 2<br>\n",
    "-24 7 2<br>\n",
    "<br>\n",
    "- Output<br>\n",
    "4<br>\n",
    "- Explanation\n",
    "<br>Let the 5 cars be A, B, C, D, and E respectively.\n",
    "\n",
    "<br>4 Collisions are as follows -\n",
    "<br>\n",
    "A & B<br>\n",
    "A & C<br>\n",
    "B & C<br>\n",
    "D & E<br>\n",
    "</p>"
   ]
  },
  {
   "cell_type": "code",
   "execution_count": 29,
   "metadata": {},
   "outputs": [],
   "source": [
    "from math import factorial as fact"
   ]
  },
  {
   "cell_type": "markdown",
   "metadata": {},
   "source": [
    "#### Getting the inputs."
   ]
  },
  {
   "cell_type": "code",
   "execution_count": 73,
   "metadata": {},
   "outputs": [
    {
     "name": "stdout",
     "output_type": "stream",
     "text": [
      "5\n"
     ]
    }
   ],
   "source": [
    "C = int(input())    # Number of cars passing by."
   ]
  },
  {
   "cell_type": "code",
   "execution_count": 72,
   "metadata": {},
   "outputs": [
    {
     "name": "stdout",
     "output_type": "stream",
     "text": [
      "5 12 1\n",
      "16 63 5\n",
      "-10 24 2\n",
      "7 24 2\n",
      "-24 7 2\n"
     ]
    }
   ],
   "source": [
    "co_ordinates = []\n",
    "velocity = []\n",
    "\n",
    "for jj in range(C):\n",
    "    temp_data = [int(jj) for jj in input().split()]    #[co - ordinates, velocity]\n",
    "    co_ordinates.append(tuple(temp_data[:-1]))\n",
    "    velocity.append(temp_data[-1])"
   ]
  },
  {
   "cell_type": "markdown",
   "metadata": {},
   "source": [
    "#### Functions for calculating Combination and Euclidean Distance."
   ]
  },
  {
   "cell_type": "code",
   "execution_count": 74,
   "metadata": {},
   "outputs": [],
   "source": [
    "# To calculate combinations.\n",
    "combination = lambda n,r: int(fact(n) / (fact(r) * fact(n - r)))\n",
    "# To calculate 2D distance from the origin.\n",
    "standard_euclidean_distance = lambda x,y: ((x**2) + (y**2))**.5"
   ]
  },
  {
   "cell_type": "markdown",
   "metadata": {},
   "source": [
    "#### To calculate the Euclidean distance from the origin to the respective points."
   ]
  },
  {
   "cell_type": "code",
   "execution_count": 75,
   "metadata": {},
   "outputs": [],
   "source": [
    "distance = [standard_euclidean_distance(*co_ordinates[ii]) for ii in range(len(co_ordinates))]"
   ]
  },
  {
   "cell_type": "code",
   "execution_count": 76,
   "metadata": {},
   "outputs": [
    {
     "data": {
      "text/plain": [
       "[13.0, 65.0, 26.0, 25.0, 25.0]"
      ]
     },
     "execution_count": 76,
     "metadata": {},
     "output_type": "execute_result"
    }
   ],
   "source": [
    "distance"
   ]
  },
  {
   "cell_type": "markdown",
   "metadata": {},
   "source": [
    "#### To calculate the time taken for the vehicles to reah the origin given their velocities and distance.\n",
    "- t = d / v"
   ]
  },
  {
   "cell_type": "code",
   "execution_count": null,
   "metadata": {},
   "outputs": [],
   "source": [
    "time = [distance[ii] / velocity[ii] for ii in range(len(distance))]"
   ]
  },
  {
   "cell_type": "code",
   "execution_count": 77,
   "metadata": {},
   "outputs": [
    {
     "data": {
      "text/plain": [
       "array([13. , 13. , 13. , 12.5, 12.5])"
      ]
     },
     "execution_count": 77,
     "metadata": {},
     "output_type": "execute_result"
    }
   ],
   "source": [
    "time"
   ]
  },
  {
   "cell_type": "markdown",
   "metadata": {},
   "source": [
    "#### Counting the number of unique values of time."
   ]
  },
  {
   "cell_type": "code",
   "execution_count": 78,
   "metadata": {},
   "outputs": [],
   "source": [
    "from collections import Counter\n",
    "\n",
    "unique = tuple(Counter(time).values())"
   ]
  },
  {
   "cell_type": "code",
   "execution_count": 79,
   "metadata": {},
   "outputs": [
    {
     "data": {
      "text/plain": [
       "(3, 2)"
      ]
     },
     "execution_count": 79,
     "metadata": {},
     "output_type": "execute_result"
    }
   ],
   "source": [
    "unique"
   ]
  },
  {
   "cell_type": "markdown",
   "metadata": {},
   "source": [
    "#### For count > 1, there is no collision. So the total collisions = C(n1, 2) + C(n2, 2) + ... + C(nk, 2)"
   ]
  },
  {
   "cell_type": "code",
   "execution_count": 80,
   "metadata": {},
   "outputs": [
    {
     "name": "stdout",
     "output_type": "stream",
     "text": [
      "4\n"
     ]
    }
   ],
   "source": [
    "print(sum((combination(n = ii, r = 2) for ii in unique if ii>1)))"
   ]
  },
  {
   "cell_type": "markdown",
   "metadata": {},
   "source": [
    "## Aliter: Using Vectorization."
   ]
  },
  {
   "cell_type": "code",
   "execution_count": 81,
   "metadata": {},
   "outputs": [],
   "source": [
    "from math import factorial as fact\n",
    "import numpy as np"
   ]
  },
  {
   "cell_type": "code",
   "execution_count": 82,
   "metadata": {},
   "outputs": [
    {
     "name": "stdout",
     "output_type": "stream",
     "text": [
      "5\n",
      "5 12 1\n",
      "16 63 5\n",
      "-10 24 2\n",
      "7 24 2\n",
      "-24 7 2\n"
     ]
    }
   ],
   "source": [
    "C = int(input())\n",
    "\n",
    "data = []\n",
    "for jj in range(C):\n",
    "    temp_data = [int(jj) for jj in input().split()]\n",
    "    data.append(temp_data)\n",
    "\n",
    "# Functions.\n",
    "combination = lambda n,r: int(fact(n) / (fact(r) * fact(n - r)))\n",
    "standard_euclidean_distance = lambda x,y: ((x**2) + (y**2))**.5\n",
    "\n",
    "# Numpy array for the data.\n",
    "data = np.array(data)\n",
    "\n",
    "# Segmentation.\n",
    "co_ordinates = data[:, :-1]\n",
    "velocity = data[:, -1]\n",
    "\n",
    "distance = standard_euclidean_distance(co_ordinates[:,0], co_ordinates[:,1])\n",
    "\n",
    "time = distance / velocity"
   ]
  },
  {
   "cell_type": "code",
   "execution_count": 83,
   "metadata": {},
   "outputs": [
    {
     "data": {
      "text/plain": [
       "array([13. , 13. , 13. , 12.5, 12.5])"
      ]
     },
     "execution_count": 83,
     "metadata": {},
     "output_type": "execute_result"
    }
   ],
   "source": [
    "time"
   ]
  },
  {
   "cell_type": "markdown",
   "metadata": {},
   "source": [
    "#### Getting the number of unique values in numpy."
   ]
  },
  {
   "cell_type": "code",
   "execution_count": 69,
   "metadata": {},
   "outputs": [],
   "source": [
    "_, unique = np.unique(time, return_counts = True)"
   ]
  },
  {
   "cell_type": "markdown",
   "metadata": {},
   "source": [
    "#### Output:"
   ]
  },
  {
   "cell_type": "code",
   "execution_count": 70,
   "metadata": {},
   "outputs": [
    {
     "name": "stdout",
     "output_type": "stream",
     "text": [
      "4\n"
     ]
    }
   ],
   "source": [
    "print(sum((combination(n = ii, r = 2) for ii in unique if ii>1)))"
   ]
  },
  {
   "cell_type": "markdown",
   "metadata": {},
   "source": [
    "# The End."
   ]
  }
 ],
 "metadata": {
  "kernelspec": {
   "display_name": "Python 3",
   "language": "python",
   "name": "python3"
  },
  "language_info": {
   "codemirror_mode": {
    "name": "ipython",
    "version": 3
   },
   "file_extension": ".py",
   "mimetype": "text/x-python",
   "name": "python",
   "nbconvert_exporter": "python",
   "pygments_lexer": "ipython3",
   "version": "3.7.5"
  }
 },
 "nbformat": 4,
 "nbformat_minor": 4
}
