{
 "cells": [
  {
   "cell_type": "markdown",
   "metadata": {},
   "source": [
    "# Supreme Competition.\n",
    "- Prepared by: <a href = 'https://github.com/sagsshakya'> Sagun Shakya </a>\n",
    "- MSc. Data Science\n",
    "- GITAM Institute of Science, Visakhapatnam.\n",
    "- Email: sags.shakya@gmail.com"
   ]
  },
  {
   "cell_type": "markdown",
   "metadata": {},
   "source": [
    "<p>\n",
    "Race is generally organized by distance but this race will be organized by time. In order to predict the winner we will check every 2 seconds.\n",
    "\n",
    "Let’s say total race time is 7 seconds we will check for (7-1) seconds.\n",
    "For 7 sec : We will check who is leading at 2 sec, 4 sec and 6 sec.\n",
    "Participant who is leading more number of times is winner from prediction perspective.\n",
    "Now our task is to predict a winner in this marathon.\n",
    "Note:\n",
    "\n",
    "At particular time let say at 4th second, top two (top N, in general) participants are at same distance, then in this case both are leading we will increase count for both (all N).\n",
    "And after calculating at all time slices, if number of times someone is leading, is same for two or more participants, then one who come first in input sequence will be the winner.\n",
    "Ex: If participant 2 and 3 are both leading with same number, participant 2 will be the winner.\n",
    "\n",
    "Constraints\n",
    "1 <= T <= 100\n",
    "1 <= N <= 100\n",
    "Input Format\n",
    "First line contains a single integer N denoting the number of participants\n",
    "Second line contains a single integer T denoting the total time in seconds of this Marathon.\n",
    "Next N lines (for each participant) are as follows :\n",
    "We have T+1 integers separated by space.\n",
    "First T integers are as follow: ith integer denotes the number of steps taken by the participant at the ith second.\n",
    "T+1st integer denotes the Distance (in meters) of each step.\n",
    "Output\n",
    "Index of Marathon winner, where index starts with 1.\n",
    "\n",
    "Example  Input 1\n",
    "3<br>\n",
    "8<br>\n",
    "2 2 4 3 5 2 6 2 3<br>\n",
    "3 5 7 4 3 9 3 2 2<br>\n",
    "1 2 4 2 7 5 3 2 4<br>\n",
    "Output<br>\n",
    "2<br>\n",
    "Explanation<br>\n",
    "3 (No. of candidate)<br>\n",
    "8 (Total time of Sprint (In seconds))<br>\n",
    "2 2 4 3 5 2 6 2 3 ( data for 1st candidate. First 8 integers denote number of steps per second and last integer denotes distance covered in each step i.e. 3)<br>\n",
    "3 5 7 4 3 9 3 2 2 (similarly, 2nd candidate’s data).<br>\n",
    "1 2 4 2 7 5 3 2 4 (similarly, 3rd candidate’s data).<br>\n",
    "At time 2: Here 2nd marathoner is leading<br>\n",
    "<br>\n",
    "12 (2*3+2*3)<br>\n",
    "16 (3*2+5*2)<br>\n",
    "12 (1*4+2*4)<br>\n",
    "At time 4 :Here also 2nd marathoner is leading\n",
    "<br>\n",
    "33 ( 2*3+2*3 +4*3+3*3)<br>\n",
    "38<br>\n",
    "36<br>\n",
    "At time 6 :Here 3rd marathoner is leading\n",
    "<br>\n",
    "54<br>\n",
    "62<br>\n",
    "84<br>\n",
    "At time 8: Here 3rd marathoner is leading\n",
    "<br>\n",
    "78<br>\n",
    "72<br>\n",
    "104<br>\n",
    "Output:\n",
    "<br>\n",
    "2<br>\n",
    "Since, 2nd marathoner  and 3rd marathoner are tied, we use 2nd one because it came earlier in input sequence.\n",
    "    </p>"
   ]
  },
  {
   "cell_type": "code",
   "execution_count": 10,
   "metadata": {},
   "outputs": [
    {
     "name": "stdout",
     "output_type": "stream",
     "text": [
      "3\n",
      "8\n",
      "2 2 4 3 5 2 6 2 3\n",
      "3 5 7 4 3 9 3 2 2\n",
      "1 2 4 2 7 5 3 2 4\n"
     ]
    }
   ],
   "source": [
    "N = int(input())   # Total number of sprinters.\n",
    "T = int(input())   # Total time of the race.\n",
    "\n",
    "steps_per_sec = []\n",
    "distance_per_step = []    # in metres.\n",
    "for ii in range(N):\n",
    "    temp_data = [int(jj) for jj in input().split()]\n",
    "    assert(len(temp_data) == T + 1)\n",
    "    steps_per_sec.append(temp_data[:-1])\n",
    "    distance_per_step.append(temp_data[-1])"
   ]
  },
  {
   "cell_type": "code",
   "execution_count": 11,
   "metadata": {},
   "outputs": [
    {
     "data": {
      "text/plain": [
       "[[2, 2, 4, 3, 5, 2, 6, 2], [3, 5, 7, 4, 3, 9, 3, 2], [1, 2, 4, 2, 7, 5, 3, 2]]"
      ]
     },
     "execution_count": 11,
     "metadata": {},
     "output_type": "execute_result"
    }
   ],
   "source": [
    "steps_per_sec"
   ]
  },
  {
   "cell_type": "code",
   "execution_count": 12,
   "metadata": {},
   "outputs": [
    {
     "data": {
      "text/plain": [
       "[3, 2, 4]"
      ]
     },
     "execution_count": 12,
     "metadata": {},
     "output_type": "execute_result"
    }
   ],
   "source": [
    "distance_per_step"
   ]
  },
  {
   "cell_type": "markdown",
   "metadata": {},
   "source": [
    "#### Time Slices."
   ]
  },
  {
   "cell_type": "code",
   "execution_count": 5,
   "metadata": {},
   "outputs": [
    {
     "data": {
      "text/plain": [
       "(2, 4, 6, 8)"
      ]
     },
     "execution_count": 5,
     "metadata": {},
     "output_type": "execute_result"
    }
   ],
   "source": [
    "time_slices = tuple(range(2, T+1, 2))\n",
    "time_slices"
   ]
  },
  {
   "cell_type": "markdown",
   "metadata": {},
   "source": [
    "#### Score Record.\n",
    "- Keeps the streak of each sprinter for each time slice."
   ]
  },
  {
   "cell_type": "code",
   "execution_count": 6,
   "metadata": {},
   "outputs": [
    {
     "data": {
      "text/plain": [
       "{1: 0, 2: 0, 3: 0}"
      ]
     },
     "execution_count": 6,
     "metadata": {},
     "output_type": "execute_result"
    }
   ],
   "source": [
    "# Initialization.\n",
    "scores_dict = dict()\n",
    "for ii in range(1, N+1):\n",
    "    scores_dict[ii] = 0\n",
    "scores_dict"
   ]
  },
  {
   "cell_type": "markdown",
   "metadata": {},
   "source": [
    "### Main Calculation Part."
   ]
  },
  {
   "cell_type": "code",
   "execution_count": 7,
   "metadata": {},
   "outputs": [],
   "source": [
    "for time in time_slices:\n",
    "    scores_list = []    # keeps track of the score for time_slices = time.\n",
    "    for ii in range(N):\n",
    "        score = (sum(steps_per_sec[ii][:time]) * distance_per_step[ii])   # Score for player 1, then 2, then 3 and so on.\n",
    "        scores_list.append(score)\n",
    "\n",
    "    for sprinter, score in enumerate(scores_list, start = 1):\n",
    "        if score == max(scores_list):\n",
    "            scores_dict[sprinter] += 1     # This line handles the tied cases very well."
   ]
  },
  {
   "cell_type": "markdown",
   "metadata": {},
   "source": [
    "#### Answer.\n",
    "- To handle the case when two or more sprinters have the same scores at the end.\n",
    "    - The situation is dealt by treating he/she, who had come up first in the input, as the winner."
   ]
  },
  {
   "cell_type": "code",
   "execution_count": 8,
   "metadata": {},
   "outputs": [
    {
     "name": "stdout",
     "output_type": "stream",
     "text": [
      "2\n"
     ]
    }
   ],
   "source": [
    "for sprinter,score in scores_dict.items():\n",
    "    if score == max(scores_dict.values()):\n",
    "        print(sprinter)\n",
    "        break"
   ]
  },
  {
   "cell_type": "markdown",
   "metadata": {},
   "source": [
    "## Joint Code."
   ]
  },
  {
   "cell_type": "code",
   "execution_count": 9,
   "metadata": {},
   "outputs": [
    {
     "name": "stdout",
     "output_type": "stream",
     "text": [
      "3\n",
      "8\n",
      "2 2 4 3 5 2 6 2 3\n",
      "3 5 7 4 3 9 3 2 2\n",
      "1 2 4 2 7 5 3 2 4\n",
      "2\n"
     ]
    }
   ],
   "source": [
    "N = int(input())   # Total number of sprinters.\n",
    "T = int(input())   # Total time of the race.\n",
    "\n",
    "steps_per_sec = []\n",
    "distance_per_step = []    # in metres.\n",
    "for ii in range(N):\n",
    "    temp_data = [int(jj) for jj in input().split()]\n",
    "    assert(len(temp_data) == T + 1)\n",
    "    steps_per_sec.append(temp_data[:-1])\n",
    "    distance_per_step.append(temp_data[-1])\n",
    "    \n",
    "### Time Slices.\n",
    "time_slices = tuple(range(2, T+1, 2))\n",
    "\n",
    "#### Score Record.\n",
    "scores_dict = dict()\n",
    "for ii in range(1, N+1):\n",
    "    scores_dict[ii] = 0\n",
    "\n",
    "#### Main Calculation.\n",
    "for time in time_slices:\n",
    "    scores_list = []\n",
    "    for ii in range(N):\n",
    "        score = (sum(steps_per_sec[ii][:time]) * distance_per_step[ii])   # Score for player 1, then 2, then 3 and so on.\n",
    "        scores_list.append(score)\n",
    "\n",
    "    for sprinter, score in enumerate(scores_list, start = 1):\n",
    "        if score == max(scores_list):\n",
    "            scores_dict[sprinter] += 1\n",
    "        \n",
    "\n",
    "for sprinter,score in scores_dict.items():\n",
    "    if score == max(scores_dict.values()):\n",
    "        print(sprinter)\n",
    "        break"
   ]
  },
  {
   "cell_type": "markdown",
   "metadata": {},
   "source": [
    "# The End."
   ]
  }
 ],
 "metadata": {
  "kernelspec": {
   "display_name": "Python 3",
   "language": "python",
   "name": "python3"
  },
  "language_info": {
   "codemirror_mode": {
    "name": "ipython",
    "version": 3
   },
   "file_extension": ".py",
   "mimetype": "text/x-python",
   "name": "python",
   "nbconvert_exporter": "python",
   "pygments_lexer": "ipython3",
   "version": "3.7.5"
  }
 },
 "nbformat": 4,
 "nbformat_minor": 4
}
