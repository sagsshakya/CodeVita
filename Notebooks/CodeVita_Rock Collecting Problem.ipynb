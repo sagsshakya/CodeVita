{
 "cells": [
  {
   "cell_type": "markdown",
   "metadata": {},
   "source": [
    "# Rock Collecting problem.\n",
    "<a href = 'https://prepinsta.com/tcs-codevita/python-code-for-counting-rock-samples-problem/'> Go to site. </a>\n",
    "\n",
    "- Prepared by: <a href = 'https://github.com/sagsshakya'> Sagun Shakya </a>\n",
    "- MSc. Data Science\n",
    "- GITAM Institute of Science, Visakhapatnam.\n",
    "- Email: sags.shakya@gmail.com"
   ]
  },
  {
   "cell_type": "markdown",
   "metadata": {},
   "source": [
    "- Question – : Juan Marquinho is a geologist and he needs to count rock samples in order to send it to a chemical laboratory. He has a problem: The laboratory only accepts rock samples by a range of its size in ppm (parts per million).\n",
    "\n",
    "- Juan Marquinho receives the rock samples one by one and he classifies the rock samples according to the range of the laboratory. This process is very hard because the number of rock samples may be in millions.\n",
    "\n",
    "- Juan Marquinho needs your help, your task is to develop a program to get the number of rocks in each of the ranges accepted by the laboratory.\n",
    "\n",
    "- Input Format: An positive integer S (the number of rock samples) separated by a blank space, and a positive integer R (the number of ranges of the laboratory); A list of the sizes of S samples (in ppm), as positive integers separated by space R lines where the ith line containing two positive integers, space separated, indicating the minimum size and maximum size respectively of the ith range.\n",
    "\n",
    "- Output Format: R lines where the ith line contains a single non-negative integer indicating the number of the samples which lie in the ith range."
   ]
  },
  {
   "cell_type": "markdown",
   "metadata": {},
   "source": [
    "#### Getting inputs as per the question."
   ]
  },
  {
   "cell_type": "code",
   "execution_count": 23,
   "metadata": {},
   "outputs": [
    {
     "name": "stdout",
     "output_type": "stream",
     "text": [
      "Enter the number of samples and the number of ranges separated by a space: 20 3\n"
     ]
    }
   ],
   "source": [
    "myinput = input('Enter the number of samples and the number of ranges separated by a space: ')"
   ]
  },
  {
   "cell_type": "code",
   "execution_count": 24,
   "metadata": {},
   "outputs": [],
   "source": [
    "S, R = myinput.split()\n",
    "S, R= int(S), int(R)"
   ]
  },
  {
   "cell_type": "code",
   "execution_count": 26,
   "metadata": {},
   "outputs": [
    {
     "data": {
      "text/plain": [
       "(20, 3)"
      ]
     },
     "execution_count": 26,
     "metadata": {},
     "output_type": "execute_result"
    }
   ],
   "source": [
    "S,R"
   ]
  },
  {
   "cell_type": "code",
   "execution_count": 25,
   "metadata": {},
   "outputs": [
    {
     "name": "stdout",
     "output_type": "stream",
     "text": [
      "Enter range separated by a space: 1 100\n",
      "Enter range separated by a space: 50 600\n",
      "Enter range separated by a space: 1 1000\n"
     ]
    }
   ],
   "source": [
    "range_list = []\n",
    "for ii in range(R):\n",
    "    temp = input('Enter range separated by a space: ')\n",
    "    l1, l2 = temp.split()\n",
    "    l1,l2 = int(l1), int(l2)\n",
    "    range_list.append((l1,l2))"
   ]
  },
  {
   "cell_type": "code",
   "execution_count": 27,
   "metadata": {},
   "outputs": [
    {
     "data": {
      "text/plain": [
       "[(1, 100), (50, 600), (1, 1000)]"
      ]
     },
     "execution_count": 27,
     "metadata": {},
     "output_type": "execute_result"
    }
   ],
   "source": [
    "range_list"
   ]
  },
  {
   "cell_type": "code",
   "execution_count": 28,
   "metadata": {},
   "outputs": [
    {
     "name": "stdout",
     "output_type": "stream",
     "text": [
      "Enter the sample values separated by a space: 921 107 270 631 926 543 589 520 595 93 873 424 759 537 458 614 725 842 575 195\n"
     ]
    }
   ],
   "source": [
    "samples = input('Enter the sample values separated by a space: ')"
   ]
  },
  {
   "cell_type": "code",
   "execution_count": 29,
   "metadata": {},
   "outputs": [
    {
     "data": {
      "text/plain": [
       "[93,\n",
       " 107,\n",
       " 195,\n",
       " 270,\n",
       " 424,\n",
       " 458,\n",
       " 520,\n",
       " 537,\n",
       " 543,\n",
       " 575,\n",
       " 589,\n",
       " 595,\n",
       " 614,\n",
       " 631,\n",
       " 725,\n",
       " 759,\n",
       " 842,\n",
       " 873,\n",
       " 921,\n",
       " 926]"
      ]
     },
     "execution_count": 29,
     "metadata": {},
     "output_type": "execute_result"
    }
   ],
   "source": [
    "samples_list = samples.split()\n",
    "samples_list = [int(sample) for sample in samples_list]\n",
    "sorted_list = sorted(samples_list)\n",
    "sorted_list"
   ]
  },
  {
   "cell_type": "markdown",
   "metadata": {},
   "source": [
    "#### Keepig track of the counts."
   ]
  },
  {
   "cell_type": "code",
   "execution_count": 30,
   "metadata": {},
   "outputs": [],
   "source": [
    "counter = dict()\n",
    "for ii in range(R):\n",
    "    counter['sum' + str(ii+1)] = 0 "
   ]
  },
  {
   "cell_type": "markdown",
   "metadata": {},
   "source": [
    "#### Keeping track of the items."
   ]
  },
  {
   "cell_type": "code",
   "execution_count": 31,
   "metadata": {},
   "outputs": [],
   "source": [
    "identifier = dict()\n",
    "for ii in range(R):\n",
    "    identifier['ranger' + str(ii+1)] = [] "
   ]
  },
  {
   "cell_type": "markdown",
   "metadata": {},
   "source": [
    "#### Main calculation part."
   ]
  },
  {
   "cell_type": "code",
   "execution_count": 32,
   "metadata": {},
   "outputs": [],
   "source": [
    "for sample in sorted_list:\n",
    "    for ii in range(len(range_list)):\n",
    "        if sample in range(*range_list[ii]):\n",
    "            counter['sum' + str(ii+1)] += 1\n",
    "            identifier['ranger' + str(ii+1)].append(sample)\n",
    "            "
   ]
  },
  {
   "cell_type": "markdown",
   "metadata": {},
   "source": [
    "#### Outputs."
   ]
  },
  {
   "cell_type": "code",
   "execution_count": 34,
   "metadata": {},
   "outputs": [
    {
     "data": {
      "text/plain": [
       "{'sum1': 1, 'sum2': 12, 'sum3': 20}"
      ]
     },
     "execution_count": 34,
     "metadata": {},
     "output_type": "execute_result"
    }
   ],
   "source": [
    "counter"
   ]
  },
  {
   "cell_type": "code",
   "execution_count": 36,
   "metadata": {},
   "outputs": [
    {
     "name": "stdout",
     "output_type": "stream",
     "text": [
      "{'ranger1': [93], 'ranger2': [93, 107, 195, 270, 424, 458, 520, 537, 543, 575, 589, 595], 'ranger3': [93, 107, 195, 270, 424, 458, 520, 537, 543, 575, 589, 595, 614, 631, 725, 759, 842, 873, 921, 926]}\n"
     ]
    }
   ],
   "source": [
    "print(identifier)"
   ]
  },
  {
   "cell_type": "code",
   "execution_count": 38,
   "metadata": {},
   "outputs": [
    {
     "name": "stdout",
     "output_type": "stream",
     "text": [
      "Your answer is: \n",
      "\n",
      "1\n",
      "12\n",
      "20\n"
     ]
    }
   ],
   "source": [
    "print('Your answer is: \\n')\n",
    "for value in counter.values():\n",
    "    print(value)"
   ]
  },
  {
   "cell_type": "markdown",
   "metadata": {},
   "source": [
    "### The End."
   ]
  }
 ],
 "metadata": {
  "kernelspec": {
   "display_name": "Python 3",
   "language": "python",
   "name": "python3"
  },
  "language_info": {
   "codemirror_mode": {
    "name": "ipython",
    "version": 3
   },
   "file_extension": ".py",
   "mimetype": "text/x-python",
   "name": "python",
   "nbconvert_exporter": "python",
   "pygments_lexer": "ipython3",
   "version": "3.7.5"
  }
 },
 "nbformat": 4,
 "nbformat_minor": 4
}
