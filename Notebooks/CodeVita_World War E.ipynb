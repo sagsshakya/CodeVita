{
 "cells": [
  {
   "cell_type": "markdown",
   "metadata": {},
   "source": [
    "# World War E.\n",
    "- Prepared by: <a href = 'https://github.com/sagsshakya'> Sagun Shakya </a>\n",
    "- MSc. Data Science\n",
    "- GITAM Institute of Science, Visakhapatnam.\n",
    "- Email: sags.shakya@gmail.com\n"
   ]
  },
  {
   "cell_type": "markdown",
   "metadata": {},
   "source": [
    "<p>In a crossover fantasy universe, Houin Kyoma is up in a battle against a powerful monster Nomu that can kill him in a single blow. However being a brilliant scientist Kyoma found a way to pause time for exactly M seconds. Each second, Kyoma attacks Nomu with certain power, which will reduce his health points by that exact power. Initially Nomu has H Health Points. Nomu dies when his Health Points reach 0. Normally Kyoma performs Normal Attack with power A. Besides from Kyoma’s brilliance, luck plays a major role in events of this universe. Kyoma’s Luck L is defined as probability of performing a super attack. A super attack increases power of Normal Attack by C. Given this information calculate and print the probability that Kyoma kills Nomu and survives. If Kyoma dies print RIP.<br>\n",
    "\n",
    "- Constraints\n",
    "    - 0 < T <= 50\n",
    "    - 1 <= A, H, C, L1, L2 <= 1000\n",
    "    - 1 <= M <= 20.\n",
    "    - L1<=L2\n",
    "- Input Format\n",
    "    - First line is integer T denoting number of test cases\n",
    "    - Each test case consist of single line with space separated numbers A H L1 L2 M C.\n",
    "    - Where luck L is defined as L1/L2. Other numbers are, as described above.\n",
    "- Output\n",
    "    - Print probability that Kyoma kills Nomu in form P1/P2 where P1<=P2 and gcd(P1,P2)=1\n",
    "    - If impossible, print RIP without quotes.\n",
    "- Example Input 1\n",
    "    - 2\n",
    "    - 10 33 7 10 3 2\n",
    "    - 10 999 7 10 3 2\n",
    "- Output\n",
    "    - 98/125\n",
    "    - RIP</p>"
   ]
  },
  {
   "cell_type": "markdown",
   "metadata": {},
   "source": [
    "#### Taking Inputs."
   ]
  },
  {
   "cell_type": "code",
   "execution_count": 65,
   "metadata": {},
   "outputs": [
    {
     "name": "stdout",
     "output_type": "stream",
     "text": [
      "2\n"
     ]
    }
   ],
   "source": [
    "T = int(input())  # Number of test cases."
   ]
  },
  {
   "cell_type": "code",
   "execution_count": 66,
   "metadata": {},
   "outputs": [
    {
     "name": "stdout",
     "output_type": "stream",
     "text": [
      "10 33 7 10 3 2\n",
      "10 999 7 10 3 2\n"
     ]
    }
   ],
   "source": [
    "test_cases = []\n",
    "for ii in range(T):\n",
    "    temp = [int(jj) for jj in input().split()]\n",
    "    test_cases.append(temp)"
   ]
  },
  {
   "cell_type": "markdown",
   "metadata": {},
   "source": [
    "#### Functions that we need to get through.\n",
    "    1. To calculate the combination nCr.\n",
    "    2. To determine the numerator of the Binomial Probability.\n",
    "    3. To convert the floating point to a rational number."
   ]
  },
  {
   "cell_type": "code",
   "execution_count": 70,
   "metadata": {},
   "outputs": [],
   "source": [
    "from math import gcd, factorial as fact\n",
    "\n",
    "# Combination : nCr.\n",
    "combination = lambda n,r: fact(n) / (fact(r) * fact(n - r))\n",
    "\n",
    "# Binomial Distribution with parameters n,p; 'p' being the probability of success of X in a single trial.\n",
    "# Note that p = l1 / l2.\n",
    "binomial_distribution_modified = lambda n,l1, l2,x: combination(n,x) * (l1**x) * ((l2 - l1)**(n - x))  # Just the Numerator."
   ]
  },
  {
   "cell_type": "code",
   "execution_count": 73,
   "metadata": {},
   "outputs": [],
   "source": [
    "# Conversion of floating point to fraction.\n",
    "def float_to_ratio(flt):\n",
    "    if int(flt) == flt:        # to prevent 3.0 -> 30/10\n",
    "        return int(flt), 1\n",
    "    flt_str = str(flt)\n",
    "    flt_split = flt_str.split('.')\n",
    "    numerator = int(''.join(flt_split))\n",
    "    denominator = 10 ** len(flt_split[1])\n",
    "    GCD = gcd(numerator, denominator)\n",
    "    \n",
    "    # Simplifying into simple ratio.\n",
    "    while GCD != 1:\n",
    "        numerator /= GCD\n",
    "        denominator /= GCD\n",
    "        GCD = gcd(int(numerator), int(denominator))\n",
    "    \n",
    "    return int(numerator), int(denominator)\n"
   ]
  },
  {
   "cell_type": "code",
   "execution_count": 76,
   "metadata": {},
   "outputs": [
    {
     "name": "stdout",
     "output_type": "stream",
     "text": [
      "98/125\n",
      "RIP\n"
     ]
    }
   ],
   "source": [
    "for case in test_cases:\n",
    "    A, H, L1, L2, M, C = case  \n",
    "    \n",
    "    ##### Parameters:\n",
    "    # A: Health taken using normal attack.\n",
    "    # H: Full health of the monster.\n",
    "    # L1: Numerator of the probability of super - attack.\n",
    "    # L2: Denominator of the probability of super - attack.\n",
    "    # M: Number of seconds frozen by the protagonist.\n",
    "    # C: Extra points gained on attack if super attack is used.\n",
    "    \n",
    "    assert(L1 <= L2)\n",
    "    \n",
    "    max_points_normal_attack = A * M                 # Max. points that can be gained if no super attacks are used.  \n",
    "    points_lag = H - max_points_normal_attack        # Points that will be lagged if no super attacks are used. \n",
    "    super_attack_point = A + C                       # Value of each super_attack.\n",
    "    \n",
    "    if C*M < points_lag:                             # \"Impossible - to - win\" case.\n",
    "        print('RIP')\n",
    "    \n",
    "    else:\n",
    "        X = range(M+1)                               # X is a Random variable which measures the number of super attacks used.\n",
    "        \n",
    "        # Checking for the minimum number of super attacks needed.\n",
    "        for x in X:\n",
    "            if x*C > points_lag:\n",
    "                min_x = x\n",
    "                break\n",
    "\n",
    "        # Calculate the binomial probability for X > min_x.\n",
    "        probability_accumulator = 0\n",
    "        for r in range(min_x, M+1):\n",
    "            probability_accumulator += binomial_distribution_modified(n = M, l1 = L1, l2 = L2,  x = r)\n",
    "        \n",
    "        # Converting the probabilty to a simple fraction.\n",
    "        numerator, denominator = float_to_ratio(probability_accumulator / (L2 ** M))\n",
    "        print(str(int(numerator)) + '/' + str(int(denominator)))"
   ]
  },
  {
   "cell_type": "markdown",
   "metadata": {},
   "source": [
    "<hr>"
   ]
  },
  {
   "cell_type": "markdown",
   "metadata": {},
   "source": [
    "#### Break - down of the first test - case."
   ]
  },
  {
   "cell_type": "code",
   "execution_count": 91,
   "metadata": {},
   "outputs": [],
   "source": [
    "A, H, L1, L2, M, C = 10, 33, 7, 10, 3, 2"
   ]
  },
  {
   "cell_type": "code",
   "execution_count": 92,
   "metadata": {},
   "outputs": [],
   "source": [
    "max_points_normal_attack = A * M"
   ]
  },
  {
   "cell_type": "code",
   "execution_count": 93,
   "metadata": {},
   "outputs": [
    {
     "data": {
      "text/plain": [
       "30"
      ]
     },
     "execution_count": 93,
     "metadata": {},
     "output_type": "execute_result"
    }
   ],
   "source": [
    "max_points_normal_attack"
   ]
  },
  {
   "cell_type": "code",
   "execution_count": 94,
   "metadata": {},
   "outputs": [],
   "source": [
    "points_lag = H - max_points_normal_attack"
   ]
  },
  {
   "cell_type": "code",
   "execution_count": 95,
   "metadata": {},
   "outputs": [
    {
     "data": {
      "text/plain": [
       "3"
      ]
     },
     "execution_count": 95,
     "metadata": {},
     "output_type": "execute_result"
    }
   ],
   "source": [
    "points_lag"
   ]
  },
  {
   "cell_type": "code",
   "execution_count": 96,
   "metadata": {},
   "outputs": [],
   "source": [
    "super_attack_point = A + C"
   ]
  },
  {
   "cell_type": "code",
   "execution_count": 97,
   "metadata": {},
   "outputs": [
    {
     "data": {
      "text/plain": [
       "12"
      ]
     },
     "execution_count": 97,
     "metadata": {},
     "output_type": "execute_result"
    }
   ],
   "source": [
    "super_attack_point"
   ]
  },
  {
   "cell_type": "code",
   "execution_count": 99,
   "metadata": {},
   "outputs": [
    {
     "name": "stdout",
     "output_type": "stream",
     "text": [
      "The number of super attacks should be at least  2 .\n",
      "Range of X: 2 to 3\n",
      "\n",
      "Probability of using super attacks greater than or equal to 2: 98/125\n"
     ]
    }
   ],
   "source": [
    "if C*M < points_lag:\n",
    "    print('RIP')\n",
    "else:\n",
    "    X = range(M+1)\n",
    "    # Checking for the minimum number of super attacks needed.\n",
    "    for x in X:\n",
    "        if x*C > points_lag:\n",
    "            min_x = x\n",
    "            break\n",
    "    \n",
    "    print('The number of super attacks should be at least ', min_x, '.')\n",
    "    print('Range of X: ' + str(min_x) + ' to ' + str(M))\n",
    "    \n",
    "    # Calculate the binomial probability for X> min_x.\n",
    "    probability_accumulator = 0\n",
    "    for r in range(min_x, M+1):\n",
    "        probability_accumulator += binomial_distribution_modified(n = M, l1 = L1, l2 = L2,  x = r)\n",
    "\n",
    "    \n",
    "    # Conversion of floating point to fraction.\n",
    "    def float_to_ratio(flt):\n",
    "        if int(flt) == flt:        # to prevent 3.0 -> 30/10\n",
    "            return int(flt), 1\n",
    "        flt_str = str(flt)\n",
    "        flt_split = flt_str.split('.')\n",
    "        numerator = int(''.join(flt_split))\n",
    "        denominator = 10 ** len(flt_split[1])\n",
    "        return numerator, denominator\n",
    "\n",
    "    numerator, denominator = float_to_ratio(probability_accumulator /(L2**M))   # Calculation.\n",
    "\n",
    "    from math import gcd\n",
    "    GCD = gcd(numerator, denominator)\n",
    "\n",
    "    while GCD != 1:\n",
    "        numerator /= GCD\n",
    "        denominator /= GCD\n",
    "        GCD = gcd(int(numerator), int(denominator))\n",
    "        \n",
    "    print('\\nProbability of using super attacks greater than or equal to ' + str(min_x) + ': ' +\n",
    "          str(int(numerator)) + '/' + str(int(denominator)))\n",
    "    "
   ]
  },
  {
   "cell_type": "markdown",
   "metadata": {},
   "source": [
    "# The End."
   ]
  }
 ],
 "metadata": {
  "kernelspec": {
   "display_name": "Python 3",
   "language": "python",
   "name": "python3"
  },
  "language_info": {
   "codemirror_mode": {
    "name": "ipython",
    "version": 3
   },
   "file_extension": ".py",
   "mimetype": "text/x-python",
   "name": "python",
   "nbconvert_exporter": "python",
   "pygments_lexer": "ipython3",
   "version": "3.7.5"
  }
 },
 "nbformat": 4,
 "nbformat_minor": 4
}
