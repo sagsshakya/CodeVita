{
 "cells": [
  {
   "cell_type": "markdown",
   "metadata": {},
   "source": [
    "# Taxation Woes Problem.\n",
    "- Prepared by: <a href = 'https://github.com/sagsshakya'> Sagun Shakya </a>\n",
    "- MSc. Data Science\n",
    "- GITAM Institute of Science, Visakhapatnam.\n",
    "- Email: sags.shakya@gmail.com\n"
   ]
  },
  {
   "cell_type": "markdown",
   "metadata": {},
   "source": [
    "<p>\n",
    "In a country, there are N slabs for Income tax which are common for all age groups and genders. As an income tax officer, investigating a case, you have the amount of tax paid by each employee of an organization.\n",
    "\n",
    "Considering the income tax slabs and rebates offered, you need to find the total amount paid by the organization in salaries to the employees to match it with the amount reported by the organization in its filed Income tax Returns.\n",
    "\n",
    "Information regarding the income tax slabs, rebate amount and the income tax paid by each employee of the organization will be provided.\n",
    "\n",
    "Rebate amount is subtracted from the total salary of each employee. Tax is calculated on the remaining amount. You need to calculate the sum of total salary paid to the employees in that year.\n",
    "\n",
    "<b>Constraints:</b><br>\n",
    "- Number of tax slabs = Number of percentage on tax slabs\n",
    "- 0<= Rebate, tax paid, slab <=1000000<br>\n",
    "<b>Input Format</b>\n",
    "- First Line will provide the Amount in each slab, separate by space (' ')\n",
    "- Second Line will provide the percentage of tax applied on each slab. Number of values in this line will be same as that in line one, separate by space (' ')\n",
    "- Third Line will provide the Rebate considered\n",
    "- Fourth line will provide the tax paid by each employee, separate by space (' ')<br>\n",
    "<b>Output</b>\n",
    "- Total Salary paid by the organization to its employees\n",
    "Example Input\n",
    "<br>300000 600000 900000\n",
    "<br>10 20 30\n",
    "<br>100000\n",
    "<br>90000 150000 210000 300000\n",
    "<br>Output\n",
    "5300000\n",
    "<br>Explanation\n",
    "<br>Slabs and tax percentage indicate that for salary:\n",
    "<br>\n",
    "Between 0 - 300000, tax is 0%\n",
    "Between 300001 - 600000, tax is 10%\n",
    "Between 600001 - 900000, tax is 20%\n",
    "Greater than 900001, tax is 30%\n",
    "First, we exclude the rebate from the salary of each employee. This will be the taxable component of salary. Upon, taxable salary apply the slab and tax percentage logic. Upon computation, one finds that employees are paid amounts 1000000, 1200000, 1400000, 1700000 respectively, as salaries. So, the total salary paid to all employees in that year will be 5300000.\n",
    "</p>"
   ]
  },
  {
   "cell_type": "code",
   "execution_count": 2,
   "metadata": {},
   "outputs": [
    {
     "data": {
      "text/plain": [
       "'slab = [300000,  600000, 900000]\\ntax_percent = [10,20,30]\\nrebate_amount = 100000\\ntax_paid = [90000, 150000, 210000, 300000]'"
      ]
     },
     "execution_count": 2,
     "metadata": {},
     "output_type": "execute_result"
    }
   ],
   "source": [
    "'''slab = [300000,  600000, 900000]\n",
    "tax_percent = [10,20,30]\n",
    "rebate_amount = 100000\n",
    "tax_paid = [90000, 150000, 210000, 300000]'''"
   ]
  },
  {
   "cell_type": "code",
   "execution_count": 16,
   "metadata": {},
   "outputs": [
    {
     "name": "stdout",
     "output_type": "stream",
     "text": [
      "300000 600000 900000\n"
     ]
    }
   ],
   "source": [
    "# slabs values\n",
    "\n",
    "slab = list(map(int,input().split()))"
   ]
  },
  {
   "cell_type": "code",
   "execution_count": 17,
   "metadata": {},
   "outputs": [
    {
     "name": "stdout",
     "output_type": "stream",
     "text": [
      "10 20 30\n"
     ]
    }
   ],
   "source": [
    "# percentage of each slab\n",
    "\n",
    "tax_percent = list(map(int,input().split()))"
   ]
  },
  {
   "cell_type": "code",
   "execution_count": 18,
   "metadata": {},
   "outputs": [
    {
     "name": "stdout",
     "output_type": "stream",
     "text": [
      "100000\n"
     ]
    }
   ],
   "source": [
    "# rebate_amount amount\n",
    "\n",
    "rebate_amount = int(input())"
   ]
  },
  {
   "cell_type": "code",
   "execution_count": 19,
   "metadata": {},
   "outputs": [
    {
     "name": "stdout",
     "output_type": "stream",
     "text": [
      "90000 150000 210000 300000\n"
     ]
    }
   ],
   "source": [
    "# tax payed by each employee\n",
    "\n",
    "tax_paid = list(map(int,input().split()))"
   ]
  },
  {
   "cell_type": "markdown",
   "metadata": {},
   "source": [
    "#### Converting tax_percent to decimal."
   ]
  },
  {
   "cell_type": "code",
   "execution_count": 23,
   "metadata": {},
   "outputs": [
    {
     "data": {
      "text/plain": [
       "[0.0, 0.1, 0.2, 0.3]"
      ]
     },
     "execution_count": 23,
     "metadata": {},
     "output_type": "execute_result"
    }
   ],
   "source": [
    "tax_percent = [0] + tax_percent\n",
    "tax_percent = [percent/100 for percent in tax_percent]\n",
    "tax_percent"
   ]
  },
  {
   "cell_type": "markdown",
   "metadata": {},
   "source": [
    "#### Gap between the slabs."
   ]
  },
  {
   "cell_type": "code",
   "execution_count": 24,
   "metadata": {},
   "outputs": [
    {
     "data": {
      "text/plain": [
       "[300000, 300000, 300000]"
      ]
     },
     "execution_count": 24,
     "metadata": {},
     "output_type": "execute_result"
    }
   ],
   "source": [
    "slab_difference = [slab[0]] + [slab[ii + 1] - slab[ii] for ii in range(len(slab) - 1)]\n",
    "slab_difference"
   ]
  },
  {
   "cell_type": "markdown",
   "metadata": {},
   "source": [
    "#### The tax amount for each tax slab: (upper - lower) * tax_percent."
   ]
  },
  {
   "cell_type": "code",
   "execution_count": 36,
   "metadata": {},
   "outputs": [
    {
     "data": {
      "text/plain": [
       "[0, 30000, 60000]"
      ]
     },
     "execution_count": 36,
     "metadata": {},
     "output_type": "execute_result"
    }
   ],
   "source": [
    "slab_block_tax = [int(tax_percent[ii] * slab_difference[ii]) for ii in range(len(slab_difference))]\n",
    "slab_block_tax"
   ]
  },
  {
   "cell_type": "markdown",
   "metadata": {},
   "source": [
    "#### Cumulative sum of the tax blocks."
   ]
  },
  {
   "cell_type": "code",
   "execution_count": 35,
   "metadata": {},
   "outputs": [
    {
     "data": {
      "text/plain": [
       "[0, 30000, 90000]"
      ]
     },
     "execution_count": 35,
     "metadata": {},
     "output_type": "execute_result"
    }
   ],
   "source": [
    "cumulative_sum = [0] + [sum(slab_block_tax[:ii]) for ii in range(2, len(slab_block_tax)+1)]\n",
    "cumulative_sum"
   ]
  },
  {
   "cell_type": "markdown",
   "metadata": {},
   "source": [
    "## Main Calculation of the Salary."
   ]
  },
  {
   "cell_type": "code",
   "execution_count": 30,
   "metadata": {},
   "outputs": [],
   "source": [
    "def find_salary(example_tax):\n",
    "\n",
    "    for ii in range(len(cumulative_sum)):\n",
    "        if example_tax > cumulative_sum[-1]:\n",
    "            x = ((example_tax - cumulative_sum[-1])/ tax_percent[-1]) \n",
    "            # ii = len(cumulative_sum) - 1\n",
    "            taxable_amount = sum(slab_difference[:]) + x\n",
    "            salary = taxable_amount + rebate_amount\n",
    "            break\n",
    "\n",
    "        if example_tax <= cumulative_sum[ii]:\n",
    "            x = ((example_tax - cumulative_sum[ii-1])/ tax_percent[ii]) \n",
    "            taxable_amount = sum(slab_difference[:ii]) + x\n",
    "            salary = taxable_amount + rebate_amount\n",
    "            break\n",
    "    return int(salary)"
   ]
  },
  {
   "cell_type": "markdown",
   "metadata": {},
   "source": [
    "#### Sum of the salaries for each employees."
   ]
  },
  {
   "cell_type": "code",
   "execution_count": 33,
   "metadata": {},
   "outputs": [],
   "source": [
    "answer_sum = 0\n",
    "for ii in tax_paid:\n",
    "    # print('For tax = ', ii, 'Salary = ', find_salary(ii))\n",
    "    answer_sum += find_salary(ii)\n",
    "   "
   ]
  },
  {
   "cell_type": "code",
   "execution_count": 37,
   "metadata": {},
   "outputs": [
    {
     "name": "stdout",
     "output_type": "stream",
     "text": [
      "Total Salary  for employers in the organization:  5300000\n"
     ]
    }
   ],
   "source": [
    " print('Total Salary  for employers in the organization: ', answer_sum)"
   ]
  },
  {
   "cell_type": "markdown",
   "metadata": {},
   "source": [
    "# The End."
   ]
  }
 ],
 "metadata": {
  "kernelspec": {
   "display_name": "Python 3",
   "language": "python",
   "name": "python3"
  },
  "language_info": {
   "codemirror_mode": {
    "name": "ipython",
    "version": 3
   },
   "file_extension": ".py",
   "mimetype": "text/x-python",
   "name": "python",
   "nbconvert_exporter": "python",
   "pygments_lexer": "ipython3",
   "version": "3.7.5"
  }
 },
 "nbformat": 4,
 "nbformat_minor": 4
}
