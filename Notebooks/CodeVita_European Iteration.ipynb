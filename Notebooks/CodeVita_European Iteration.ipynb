{
 "cells": [
  {
   "cell_type": "markdown",
   "metadata": {},
   "source": [
    "# European Iteration.\n",
    "- Prepared by: <a href = 'https://github.com/sagsshakya'> Sagun Shakya </a>\n",
    "- MSc. Data Science\n",
    "- GITAM Institute of Science, Visakhapatnam.\n",
    "- Email: sags.shakya@gmail.com\n"
   ]
  },
  {
   "cell_type": "markdown",
   "metadata": {},
   "source": [
    "<p>\n",
    "We know about number systems: The Roman numerals and the alternative place-value system with a given base.\n",
    "\n",
    "For the purposes of this problem, we limit ourselves to\n",
    "\n",
    "Roman numerals with values up to 3999 MMMCMXCIX\n",
    "\"Place value system\" numbers having bases from 2 (with possible symbols 0, 1) through 36 (with possible symbols 0, 1, ..., 9, A, ... ,Z)\n",
    "Consider the following procedure:\n",
    "\n",
    "Accept a natural number N (in base 10).\n",
    "If N lies in the closed interval [1,3999], i.e. between 1 and 3999 (both inclusive), convert N to R, its Roman numeral representation; else output N as the result and stop.\n",
    "Identify the base in which the value of R, now considered to be in \"place value system\", is least and calculate its value in base 10, replacing N with this value.\n",
    "Repeat from step 2.\n",
    "Constraints\n",
    "1 <= N <= 3999\n",
    "\n",
    "Input Format\n",
    "A single Integer N.\n",
    "Output\n",
    "Converted N\n",
    "Test Case\n",
    "Example Input\n",
    "1\n",
    "Output\n",
    "45338950\n",
    "Explanation\n",
    "The procedure goes as follows in this case:\n",
    "\n",
    "Accept N = 1.\n",
    "Since 1 lies in [1,3999], covert it to Roman R = I\n",
    "The least value of I (in bases 19 and above) is 18 in base 10. Hence N = 18.\n",
    "Repeating step 2, since 18 lies in [1,3999], convert it to R = XVIII\n",
    "The least value of XVIII (in base 34) is\n",
    "33*34^4+31*34^3+18*34^2+18*34+18 or N = 45338950\n",
    "Repeating step 2, since 45338950 lies outside [1,3999] output 45338950 and stop.\n",
    "</p>"
   ]
  },
  {
   "cell_type": "code",
   "execution_count": 30,
   "metadata": {},
   "outputs": [
    {
     "name": "stdout",
     "output_type": "stream",
     "text": [
      "2\n"
     ]
    }
   ],
   "source": [
    "N = int(input())"
   ]
  },
  {
   "cell_type": "code",
   "execution_count": 31,
   "metadata": {},
   "outputs": [],
   "source": [
    "# Function to convert decimal to Roman Numerals \n",
    "def decimalToRoman(decimal_number): \n",
    "    num = [1, 4, 5, 9, 10, 40, 50, 90, \n",
    "        100, 400, 500, 900, 1000] \n",
    "    symbols = [\"I\", \"IV\", \"V\", \"IX\", \"X\", \"XL\", \n",
    "        \"L\", \"XC\", \"C\", \"CD\", \"D\", \"CM\", \"M\"] \n",
    "    i = 12\n",
    "    total_roman = ''\n",
    "    while decimal_number: \n",
    "        quotient = decimal_number // num[i] \n",
    "        decimal_number %= num[i] \n",
    "\n",
    "        while quotient: \n",
    "            total_roman+= symbols[i] \n",
    "            quotient -= 1\n",
    "        i -= 1\n",
    "    return total_roman\n",
    "# This code is contributed by \n",
    "# sanjeev2552 \n"
   ]
  },
  {
   "cell_type": "code",
   "execution_count": 32,
   "metadata": {},
   "outputs": [
    {
     "name": "stdout",
     "output_type": "stream",
     "text": [
      "2\n",
      "I\n",
      "-----------------\n",
      "360\n",
      "X\n",
      "-----------------\n",
      "16522299\n"
     ]
    }
   ],
   "source": [
    "while (N>=1) and (N<=3999):\n",
    "    roman = decimalToRoman(N)\n",
    "    # print(N)\n",
    "    highest_place_value = sorted(list(set(roman)))[-1]\n",
    "    # print(highest_place_value)\n",
    "    d = int(roman, ord(highest_place_value) - 54)\n",
    "    N = d\n",
    "    # print('-----------------')\n",
    "print(N)"
   ]
  }
 ],
 "metadata": {
  "kernelspec": {
   "display_name": "Python 3",
   "language": "python",
   "name": "python3"
  },
  "language_info": {
   "codemirror_mode": {
    "name": "ipython",
    "version": 3
   },
   "file_extension": ".py",
   "mimetype": "text/x-python",
   "name": "python",
   "nbconvert_exporter": "python",
   "pygments_lexer": "ipython3",
   "version": "3.7.5"
  }
 },
 "nbformat": 4,
 "nbformat_minor": 4
}
