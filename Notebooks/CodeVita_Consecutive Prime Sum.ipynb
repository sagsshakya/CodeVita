{
 "cells": [
  {
   "cell_type": "markdown",
   "metadata": {},
   "source": [
    "# Consecutive Prime Sum.\n",
    "<a  href = 'https://www.faceprep.in/tcs/tcs-codevita-questions/'> Go to site. </a>\n",
    "\n",
    "- Prepared by: <a href = 'https://github.com/sagsshakya'> Sagun Shakya </a>\n",
    "- MSc. Data Science\n",
    "- GITAM Institute of Science, Visakhapatnam.\n",
    "- Email: sags.shakya@gmail.com\n"
   ]
  },
  {
   "cell_type": "markdown",
   "metadata": {},
   "source": [
    "- Some prime numbers can be expressed as a sum of other consecutive prime numbers. For example 5 = 2 + 3, 17 = 2 + 3 + 5 + 7, 41 = 2 + 3 + 5 + 7 + 11 + 13. Your task is to find out how many prime numbers which satisfy this property are present in the range 3 to N subject to a constraint that summation should always start with number 2.\n",
    "\n",
    "- Write code to find out the number of prime numbers that satisfy the above-mentioned property in a given range.\n",
    "\n",
    "- Input Format: First line contains a number N\n",
    "\n",
    "- Output Format: Print the total number of all such prime numbers which are less than or equal to N.\n",
    "\n",
    "- Constraints: 2<N<=12,000,000,000"
   ]
  },
  {
   "cell_type": "code",
   "execution_count": 93,
   "metadata": {},
   "outputs": [
    {
     "name": "stdout",
     "output_type": "stream",
     "text": [
      "Enter the upper bound: 20\n"
     ]
    }
   ],
   "source": [
    "N = int(input('Enter the upper bound: '))"
   ]
  },
  {
   "cell_type": "code",
   "execution_count": 109,
   "metadata": {},
   "outputs": [],
   "source": [
    "def get_numbers_below(n):\n",
    "    if n%2 == 0:\n",
    "        n += 1\n",
    "    numbers = list(range(3,n+1,2))\n",
    "    return numbers[:numbers.index(n)]"
   ]
  },
  {
   "cell_type": "code",
   "execution_count": 79,
   "metadata": {},
   "outputs": [],
   "source": [
    "def isprime(n):\n",
    "    for ii in get_numbers_below(n):\n",
    "        if n%ii == 0:\n",
    "            return False\n",
    "            break\n",
    "    return True"
   ]
  },
  {
   "cell_type": "code",
   "execution_count": 80,
   "metadata": {},
   "outputs": [],
   "source": [
    "def generate_primes_under(N):\n",
    "    primes = [2]\n",
    "    for ii in range(3,N+1,2):\n",
    "        if isprime(ii):\n",
    "            primes.append(ii)\n",
    "    return primes"
   ]
  },
  {
   "cell_type": "markdown",
   "metadata": {},
   "source": [
    "#### Main Calculation:"
   ]
  },
  {
   "cell_type": "code",
   "execution_count": 90,
   "metadata": {},
   "outputs": [],
   "source": [
    "def check_sum_of_primes(N):\n",
    "    m = generate_primes_under(N)\n",
    "\n",
    "    answer = []\n",
    "    for jj in range(2, len(m)):\n",
    "        if sum(m[:jj]) in m:\n",
    "            answer.append((m[:jj], sum(m[:jj])))\n",
    "            \n",
    "    return answer"
   ]
  },
  {
   "cell_type": "markdown",
   "metadata": {},
   "source": [
    "#### Outputs:"
   ]
  },
  {
   "cell_type": "code",
   "execution_count": 96,
   "metadata": {},
   "outputs": [
    {
     "name": "stdout",
     "output_type": "stream",
     "text": [
      "For N = 20, \n",
      "\n",
      "The number of items is:  2\n",
      "The items are:  [([2, 3], 5), ([2, 3, 5, 7], 17)]\n"
     ]
    }
   ],
   "source": [
    "print('For N = 20, \\n')\n",
    "print('The number of items is: ', len(check_sum_of_primes(20)))\n",
    "print('The items are: ', check_sum_of_primes(20))"
   ]
  },
  {
   "cell_type": "code",
   "execution_count": 111,
   "metadata": {},
   "outputs": [
    {
     "name": "stdout",
     "output_type": "stream",
     "text": [
      "For N = 200, \n",
      "\n",
      "The number of items is:  4\n",
      "The items are:  [([2, 3], 5), ([2, 3, 5, 7], 17), ([2, 3, 5, 7, 11, 13], 41), ([2, 3, 5, 7, 11, 13, 17, 19, 23, 29, 31, 37], 197)]\n"
     ]
    }
   ],
   "source": [
    "print('For N = 200, \\n')\n",
    "print('The number of items is: ', len(check_sum_of_primes(200)))\n",
    "print('The items are: ', check_sum_of_primes(200))"
   ]
  },
  {
   "cell_type": "code",
   "execution_count": 112,
   "metadata": {},
   "outputs": [
    {
     "name": "stdout",
     "output_type": "stream",
     "text": [
      "For N = 151, \n",
      "\n",
      "The number of items is:  3\n",
      "The items are:  [([2, 3], 5), ([2, 3, 5, 7], 17), ([2, 3, 5, 7, 11, 13], 41)]\n"
     ]
    }
   ],
   "source": [
    "print('For N = 151, \\n')\n",
    "print('The number of items is: ', len(check_sum_of_primes(151)))\n",
    "print('The items are: ', check_sum_of_primes(151))"
   ]
  },
  {
   "cell_type": "markdown",
   "metadata": {},
   "source": [
    "# The End."
   ]
  }
 ],
 "metadata": {
  "kernelspec": {
   "display_name": "Python 3",
   "language": "python",
   "name": "python3"
  },
  "language_info": {
   "codemirror_mode": {
    "name": "ipython",
    "version": 3
   },
   "file_extension": ".py",
   "mimetype": "text/x-python",
   "name": "python",
   "nbconvert_exporter": "python",
   "pygments_lexer": "ipython3",
   "version": "3.7.5"
  }
 },
 "nbformat": 4,
 "nbformat_minor": 4
}
