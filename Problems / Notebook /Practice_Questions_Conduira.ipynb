{
  "nbformat": 4,
  "nbformat_minor": 0,
  "metadata": {
    "colab": {
      "name": "Practice Questions Conduira.ipynb",
      "provenance": [],
      "collapsed_sections": [],
      "authorship_tag": "ABX9TyNBKxL+3/enZLg6Zv3bThO1",
      "include_colab_link": true
    },
    "kernelspec": {
      "name": "python3",
      "display_name": "Python 3"
    }
  },
  "cells": [
    {
      "cell_type": "markdown",
      "metadata": {
        "id": "view-in-github",
        "colab_type": "text"
      },
      "source": [
        "<a href=\"https://colab.research.google.com/github/sagsshakya/Coding-Problems/blob/master/Problems%20/%20Notebook%20/Practice_Questions_Conduira.ipynb\" target=\"_parent\"><img src=\"https://colab.research.google.com/assets/colab-badge.svg\" alt=\"Open In Colab\"/></a>"
      ]
    },
    {
      "cell_type": "markdown",
      "metadata": {
        "id": "3ALv5QFMtM-U"
      },
      "source": [
        "# Practice Questions for TCS from Conduira:\n",
        "- https://www.conduiraonline.com/index.php/detail/1833-tcs-ninja-exam-advanced-coding-questions"
      ]
    },
    {
      "cell_type": "markdown",
      "metadata": {
        "id": "hpp50j-4tUvE"
      },
      "source": [
        "# Question 1:\n",
        "## Armstrong numbers between two intervals:\n",
        "- Write a program to display Armstrong numbers between two intervals.\n",
        "\n",
        "- Input Format:\n",
        "\n",
        "The first line consists of an integer first interval.\n",
        "\n",
        "The second line consists of an integer second interval.\n",
        "\n",
        "- Output Format:\n",
        "\n",
        "The output is the Armstrong numbers between two intervals with each number on a new line.\n",
        "\n",
        "Sample Input:\n",
        "\n",
        "    1\n",
        "\n",
        "    1000\n",
        "\n",
        "Sample Output:\n",
        "\n",
        "    1\n",
        "\n",
        "    153\n",
        "\n",
        "    370\n",
        "\n",
        "    371\n",
        "\n",
        "    407"
      ]
    },
    {
      "cell_type": "markdown",
      "metadata": {
        "id": "1nnLLDR93L3_"
      },
      "source": [
        "### Getting the input."
      ]
    },
    {
      "cell_type": "code",
      "metadata": {
        "id": "mDN1xAIL3Of4",
        "outputId": "46916cfd-42ab-4773-d478-5052ab8f538a",
        "colab": {
          "base_uri": "https://localhost:8080/",
          "height": 52
        }
      },
      "source": [
        "low, high = int(input()), int(input())"
      ],
      "execution_count": null,
      "outputs": [
        {
          "output_type": "stream",
          "text": [
            "1\n",
            "1000\n"
          ],
          "name": "stdout"
        }
      ]
    },
    {
      "cell_type": "code",
      "metadata": {
        "id": "o5B5z9SitqcB"
      },
      "source": [
        "def number_of_digits(n):\n",
        "    '''Counts the number of digits in a number.'''\n",
        "    if n == 0:\n",
        "        return 1\n",
        "\n",
        "    q = n\n",
        "    count = 0\n",
        "    while (q != 0):\n",
        "        r = q % 10\n",
        "        q = q - r\n",
        "        q = int(q/10)\n",
        "        count += 1\n",
        "    return count\n",
        "\n",
        "def is_armstrong(x):\n",
        "    '''Checks whether a given number is armstrong or not.'''\n",
        "    if (x == 1):\n",
        "        return True\n",
        "    elif (x != 1) and (number_of_digits(x) == 1):\n",
        "        return False\n",
        "    \n",
        "    n = number_of_digits(int(x))\n",
        "    agg = 0\n",
        "    q = x\n",
        "    \n",
        "    while (q != 0):\n",
        "        r = q % 10\n",
        "        q = q - r\n",
        "        q = int(q/10)\n",
        "        agg += r**n\n",
        "    return (agg == x)\n",
        "\n",
        "def count_armstrong(low, high):\n",
        "    '''Counts the nunber of armstrong numbers in a given range.'''\n",
        "    assert(high>low)\n",
        "    count = 0\n",
        "    for ii in range(low, high + 1):\n",
        "        if is_armstrong(ii):\n",
        "            count += 1\n",
        "            print(ii)\n",
        "    print('Count: ', count)"
      ],
      "execution_count": null,
      "outputs": []
    },
    {
      "cell_type": "code",
      "metadata": {
        "id": "WkSObJiI0soy",
        "outputId": "01411630-ad4b-4455-f9f2-1261c4290361",
        "colab": {
          "base_uri": "https://localhost:8080/",
          "height": 123
        }
      },
      "source": [
        "count_armstrong(low, high)"
      ],
      "execution_count": null,
      "outputs": [
        {
          "output_type": "stream",
          "text": [
            "1\n",
            "153\n",
            "370\n",
            "371\n",
            "407\n",
            "Count:  5\n"
          ],
          "name": "stdout"
        }
      ]
    },
    {
      "cell_type": "markdown",
      "metadata": {
        "id": "CFNXz6NS5UJk"
      },
      "source": [
        "<hr>"
      ]
    },
    {
      "cell_type": "markdown",
      "metadata": {
        "id": "NunM5ygX5W3P"
      },
      "source": [
        "# Question 2:\n",
        "### Convert a Roman number to a decimal number.\n",
        "- Write a program to convert a Roman number to a decimal number.\n",
        "\n",
        "Input format:\n",
        "\n",
        "    Take a Roman number.\n",
        "\n",
        "Output format:\n",
        "\n",
        "    It will print the decimal number.\n",
        "\n",
        "Sample input:\n",
        "\n",
        "    XVII\n",
        "\n",
        "Sample output:\n",
        "\n",
        "    17"
      ]
    },
    {
      "cell_type": "markdown",
      "metadata": {
        "id": "A0sS_hHhFL8F"
      },
      "source": [
        "# Getting input:"
      ]
    },
    {
      "cell_type": "code",
      "metadata": {
        "id": "6NypK2701bOe",
        "outputId": "623ec992-85e4-4d94-b653-921c009b5bd9",
        "colab": {
          "base_uri": "https://localhost:8080/",
          "height": 34
        }
      },
      "source": [
        "roman = input().strip().upper()"
      ],
      "execution_count": null,
      "outputs": [
        {
          "output_type": "stream",
          "text": [
            "MMMDXLIX\n"
          ],
          "name": "stdout"
        }
      ]
    },
    {
      "cell_type": "markdown",
      "metadata": {
        "id": "7nf1fY2oFPG1"
      },
      "source": [
        "# Using Stack:"
      ]
    },
    {
      "cell_type": "code",
      "metadata": {
        "id": "L8xj6JU08S4L"
      },
      "source": [
        "class Stack:\n",
        "    def __init__(self):\n",
        "        self.data = []\n",
        "\n",
        "    def push(self, value):\n",
        "        self.data.append(value)\n",
        "\n",
        "    def pop(self):\n",
        "        return self.data.pop()\n",
        "\n",
        "    def __len__(self):\n",
        "        return len(self.data)\n",
        "\n",
        "    def insert_list(self, data_list):\n",
        "        for ii in data_list:\n",
        "            self.push(ii)\n",
        "\n",
        "    def is_empty(self):\n",
        "        return self.data == []\n",
        "\n",
        "    def print(self):\n",
        "        return self.data"
      ],
      "execution_count": null,
      "outputs": []
    },
    {
      "cell_type": "code",
      "metadata": {
        "id": "_hGSoY119CzN"
      },
      "source": [
        "def roman_to_numeral(roman):\n",
        "    s = Stack()\n",
        "\n",
        "    def associate(alphabet, number):\n",
        "        return (alphabet, number)\n",
        "\n",
        "    mapper = dict(map(associate, ['I', 'V', 'X', 'L', 'C', 'D', 'M'], [1, 5, 10, 50, 100, 500, 1000]))\n",
        "\n",
        "    s.insert_list([mapper[alpha.upper()] for alpha in roman])\n",
        "\n",
        "    curr = s.pop()\n",
        "    sum = curr\n",
        "\n",
        "    while s.is_empty() == False:\n",
        "        next = s.pop()\n",
        "\n",
        "        if next < curr:\n",
        "            sum -= next\n",
        "            curr = next\n",
        "\n",
        "        else:\n",
        "            sum += next\n",
        "            curr = next\n",
        "\n",
        "    return (sum)"
      ],
      "execution_count": null,
      "outputs": []
    },
    {
      "cell_type": "code",
      "metadata": {
        "id": "-PiwGTeM-pft",
        "outputId": "0ceb1578-f64f-43e7-8bc5-eb0e2be5faa2",
        "colab": {
          "base_uri": "https://localhost:8080/",
          "height": 34
        }
      },
      "source": [
        "roman_to_numeral('XXVI')"
      ],
      "execution_count": null,
      "outputs": [
        {
          "output_type": "execute_result",
          "data": {
            "text/plain": [
              "26"
            ]
          },
          "metadata": {
            "tags": []
          },
          "execution_count": 68
        }
      ]
    },
    {
      "cell_type": "code",
      "metadata": {
        "id": "Bl03JnpuEggb",
        "outputId": "e9eaf2ac-51c1-46c3-efc8-b1f96cc675a2",
        "colab": {
          "base_uri": "https://localhost:8080/",
          "height": 34
        }
      },
      "source": [
        "roman_to_numeral('MM')"
      ],
      "execution_count": null,
      "outputs": [
        {
          "output_type": "execute_result",
          "data": {
            "text/plain": [
              "2000"
            ]
          },
          "metadata": {
            "tags": []
          },
          "execution_count": 69
        }
      ]
    },
    {
      "cell_type": "code",
      "metadata": {
        "id": "dFU5hh_pEx-9",
        "outputId": "6cdd1b59-cbd7-49a0-c95d-7a7b57d8a0e1",
        "colab": {
          "base_uri": "https://localhost:8080/",
          "height": 34
        }
      },
      "source": [
        "roman_to_numeral('MIM')"
      ],
      "execution_count": null,
      "outputs": [
        {
          "output_type": "execute_result",
          "data": {
            "text/plain": [
              "1999"
            ]
          },
          "metadata": {
            "tags": []
          },
          "execution_count": 71
        }
      ]
    },
    {
      "cell_type": "code",
      "metadata": {
        "id": "njBj-BGTE21s",
        "outputId": "c854da00-6214-4e41-8653-12ecde88aed7",
        "colab": {
          "base_uri": "https://localhost:8080/",
          "height": 34
        }
      },
      "source": [
        "roman_to_numeral('Xix')"
      ],
      "execution_count": null,
      "outputs": [
        {
          "output_type": "execute_result",
          "data": {
            "text/plain": [
              "19"
            ]
          },
          "metadata": {
            "tags": []
          },
          "execution_count": 74
        }
      ]
    },
    {
      "cell_type": "markdown",
      "metadata": {
        "id": "ypdFnRTgZ-NQ"
      },
      "source": [
        "# Conversion of Decimal to Roman.\n",
        "- From the table, find the highest decimal value 't' (say) which is less than or equal to your input value 'x' (say).\n",
        "- result = Roman(t)\n",
        "\n",
        "- x = x - t \n",
        "- Repeat till you get x = 0."
      ]
    },
    {
      "cell_type": "code",
      "metadata": {
        "id": "rDSROvRyaEGy"
      },
      "source": [
        "def decimal_to_roman(x):\n",
        "    '''x is a decimal number.'''\n",
        "    DECIMAL = [1,4,5,9,10,40,50,90,100,400,500,900,1000]\n",
        "    ROMAN = 'I IV V IX X XL L XC C CD D CM M'.split()\n",
        "    # Make a hash table.\n",
        "    mapper = dict(zip(DECIMAL, ROMAN))\n",
        "\n",
        "    def get_lower_value(x):\n",
        "        assert(type(x) == int)\n",
        "\n",
        "        if x>=DECIMAL[-1]:\n",
        "            return DECIMAL[-1]\n",
        "        \n",
        "        ii = 0\n",
        "        jj = 1\n",
        "\n",
        "        for _ in range(len(DECIMAL) - 1):\n",
        "            if (DECIMAL[ii] <= x) and (x < DECIMAL[jj]):\n",
        "                return DECIMAL[ii]\n",
        "            ii += 1\n",
        "            jj += 1\n",
        "\n",
        "    def get_standard_roman(d):\n",
        "        assert(d in DECIMAL)\n",
        "        return mapper[d]\n",
        "\n",
        "    # Implement algorithm.\n",
        "    result = ''\n",
        "    while x != 0:\n",
        "        t = get_lower_value(x)\n",
        "        result += get_standard_roman(t)\n",
        "        x -= t \n",
        "    return (result)\n",
        "    "
      ],
      "execution_count": 110,
      "outputs": []
    },
    {
      "cell_type": "code",
      "metadata": {
        "id": "5_F9AHh1aEbh",
        "outputId": "0d729a36-4c0f-4e59-a4f1-4109ed01e2f6",
        "colab": {
          "base_uri": "https://localhost:8080/",
          "height": 158
        }
      },
      "source": [
        "# Testing.\n",
        "dec = [131,665,684,31,64,10,1310,2016]\n",
        "for ii in dec:\n",
        "    print(ii, decimal_to_roman(ii))"
      ],
      "execution_count": 111,
      "outputs": [
        {
          "output_type": "stream",
          "text": [
            "131 CXXXI\n",
            "665 DCLXV\n",
            "684 DCLXXXIV\n",
            "31 XXXI\n",
            "64 LXIV\n",
            "10 X\n",
            "1310 MCCCX\n",
            "2016 MMXVI\n"
          ],
          "name": "stdout"
        }
      ]
    },
    {
      "cell_type": "markdown",
      "metadata": {
        "id": "lII8W46aGax2"
      },
      "source": [
        "<hr>"
      ]
    },
    {
      "cell_type": "markdown",
      "metadata": {
        "id": "BhusQfewGcJR"
      },
      "source": [
        "# Question 3:\n",
        "\n",
        "### Longest Progressive Sequence:\n",
        "- Write a program to find the longest progressive sequence arranged in ascending order.\n",
        "\n",
        "Input Format:\n",
        "\n",
        "    The first line contains a length of the sequence\n",
        "\n",
        "    The second line contains sequence delimited by white spaces\n",
        "\n",
        "Output Format:\n",
        "\n",
        "    Longest progressive sequence.\n",
        "\n",
        "Example :\n",
        "\n",
        "    1 1 2 2 is a progressive sequence but not 1 2 1\n",
        "\n",
        "Sample Input:\n",
        "\n",
        "    5\n",
        "\n",
        "    1 2 1 2 2\n",
        "\n",
        "Sample Output:\n",
        "\n",
        "    1 2 2"
      ]
    },
    {
      "cell_type": "code",
      "metadata": {
        "id": "8zgpQMRYGruJ"
      },
      "source": [
        "arr = [1,2,3,2,4,6,6,3,2,5,7]"
      ],
      "execution_count": null,
      "outputs": []
    },
    {
      "cell_type": "code",
      "metadata": {
        "id": "dh9KVy2XJses"
      },
      "source": [
        "class Node:\n",
        "    def __init__(self, data = None, next = None):\n",
        "        self.data = data\n",
        "        self.next = next\n",
        "\n",
        "class LinkedList:\n",
        "    def __init__(self):\n",
        "        self.head = None\n",
        "\n",
        "    def is_empty(self):\n",
        "        return self.head is None\n",
        "\n",
        "    def add_at_beginning(self, value):\n",
        "        nxt = self.head\n",
        "        node = Node(data = value, next = nxt)\n",
        "        self.head = node\n",
        "\n",
        "    def print(self):\n",
        "        itr = ''\n",
        "        curr = self.head\n",
        "        while curr:\n",
        "            print(str(curr.data) + ' -> ', end = '')\n",
        "            curr = curr.next\n",
        "\n",
        "    def insert_list(self, data_list):\n",
        "        '''Inserts list in a reversed order.'''\n",
        "        for ele in data_list:\n",
        "            self.add_at_beginning(ele)\n"
      ],
      "execution_count": null,
      "outputs": []
    },
    {
      "cell_type": "markdown",
      "metadata": {
        "id": "DJEaWGsZQSKb"
      },
      "source": [
        "### Adding elements in the linked list but in reversed direction."
      ]
    },
    {
      "cell_type": "code",
      "metadata": {
        "id": "7jfLBSsrMvKS",
        "outputId": "3aede720-373a-4252-b43a-824bf095d0fa",
        "colab": {
          "base_uri": "https://localhost:8080/",
          "height": 34
        }
      },
      "source": [
        "ll = LinkedList()\n",
        "ll.insert_list(arr)\n",
        "ll.print()"
      ],
      "execution_count": null,
      "outputs": [
        {
          "output_type": "stream",
          "text": [
            "7 -> 5 -> 2 -> 3 -> 6 -> 6 -> 4 -> 2 -> 3 -> 2 -> 1 -> "
          ],
          "name": "stdout"
        }
      ]
    },
    {
      "cell_type": "code",
      "metadata": {
        "id": "I-Abuo6-M8fC"
      },
      "source": [
        "def longest_progressive_sequence(arr):\n",
        "    if len(arr) == 0:\n",
        "        raise Exception('Array is empty.')\n",
        "    if len(arr) == 1:\n",
        "        return 1\n",
        "\n",
        "    ll = LinkedList()                           # Creating a LikedList object.\n",
        "    ll.insert_list(arr)                         # Inserting the elements of the array in the linked list in a reversed fashion.\n",
        "\n",
        "    curr = ll.head                              # curr is one term less than itr.\n",
        "    itr = curr.next\n",
        "    result = 0                                  # the max of the length of the progressive sequences in the array. \n",
        "    count = 1                                   # Counter is set to 1 to balance the length.\n",
        "    tracker = ''\n",
        "    \n",
        "    while itr: \n",
        "        print(str(curr.data) + ' -> ', end = '')# Breaking point is when itr reaches None and curr reaches the last element of the LinkedList.\n",
        "        if curr.data >= itr.data:               # Decreasing condition.\n",
        "            count += 1                          # Keeping track of the length.\n",
        "            result = max(result, count)         # Updating the results if a better one is found compared to the previous.\n",
        "            curr = itr                          # Move a step forward. curr --> itr and itr --> itr.next.\n",
        "            itr = itr.next\n",
        "        else:\n",
        "            count = 1                           # If any larger element is found, reset the counter to 1.\n",
        "            curr = itr                          # Move a step forward and go to the top of the loop to check the conditions.\n",
        "            itr = itr.next\n",
        "            print()\n",
        "    print()\n",
        "    return result                               # Answer."
      ],
      "execution_count": null,
      "outputs": []
    },
    {
      "cell_type": "code",
      "metadata": {
        "id": "Iz6bw5bFSjum",
        "outputId": "72355220-9dd9-4d66-8f34-61c2012b359c",
        "colab": {
          "base_uri": "https://localhost:8080/",
          "height": 105
        }
      },
      "source": [
        "longest_progressive_sequence(arr)"
      ],
      "execution_count": null,
      "outputs": [
        {
          "output_type": "stream",
          "text": [
            "7 -> 5 -> 2 -> \n",
            "3 -> \n",
            "6 -> 6 -> 4 -> 2 -> \n",
            "3 -> 2 -> \n"
          ],
          "name": "stdout"
        },
        {
          "output_type": "execute_result",
          "data": {
            "text/plain": [
              "4"
            ]
          },
          "metadata": {
            "tags": []
          },
          "execution_count": 95
        }
      ]
    },
    {
      "cell_type": "markdown",
      "metadata": {
        "id": "d0GwXjm2S_CQ"
      },
      "source": [
        "# Getting inputs."
      ]
    },
    {
      "cell_type": "code",
      "metadata": {
        "id": "euSpp2-PSpR1",
        "outputId": "c872fd9c-1ac0-4651-8e65-361873c666e1",
        "colab": {
          "base_uri": "https://localhost:8080/",
          "height": 52
        }
      },
      "source": [
        "n = int(input())        # Array size.\n",
        "arr1 = list(map(int, input().rstrip().split()))"
      ],
      "execution_count": null,
      "outputs": [
        {
          "output_type": "stream",
          "text": [
            "5\n",
            "1 2 1 2 2\n"
          ],
          "name": "stdout"
        }
      ]
    },
    {
      "cell_type": "code",
      "metadata": {
        "id": "JjepkRJrTjU2",
        "outputId": "43812804-da0a-4d27-f761-f88f814d3bb9",
        "colab": {
          "base_uri": "https://localhost:8080/",
          "height": 105
        }
      },
      "source": [
        "longest_progressive_sequence(arr)"
      ],
      "execution_count": null,
      "outputs": [
        {
          "output_type": "stream",
          "text": [
            "7 -> 5 -> 2 -> \n",
            "3 -> \n",
            "6 -> 6 -> 4 -> 2 -> \n",
            "3 -> 2 -> \n"
          ],
          "name": "stdout"
        },
        {
          "output_type": "execute_result",
          "data": {
            "text/plain": [
              "4"
            ]
          },
          "metadata": {
            "tags": []
          },
          "execution_count": 99
        }
      ]
    },
    {
      "cell_type": "code",
      "metadata": {
        "id": "gn6xmLvKTMK-",
        "outputId": "9389d009-df79-42b3-f243-a92dedc120f1",
        "colab": {
          "base_uri": "https://localhost:8080/",
          "height": 87
        }
      },
      "source": [
        "longest_progressive_sequence([1,2,1,2,1])"
      ],
      "execution_count": null,
      "outputs": [
        {
          "output_type": "stream",
          "text": [
            "1 -> \n",
            "2 -> 1 -> \n",
            "2 -> \n"
          ],
          "name": "stdout"
        },
        {
          "output_type": "execute_result",
          "data": {
            "text/plain": [
              "2"
            ]
          },
          "metadata": {
            "tags": []
          },
          "execution_count": 98
        }
      ]
    }
  ]
}