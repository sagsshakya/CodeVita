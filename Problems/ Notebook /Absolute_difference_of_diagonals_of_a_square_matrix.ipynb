{
  "nbformat": 4,
  "nbformat_minor": 0,
  "metadata": {
    "colab": {
      "name": "Absolute difference of diagonals of a square matrix.ipynb",
      "provenance": [],
      "authorship_tag": "ABX9TyNA61dcn5+YwoqlIg5pvC5C",
      "include_colab_link": true
    },
    "kernelspec": {
      "name": "python3",
      "display_name": "Python 3"
    }
  },
  "cells": [
    {
      "cell_type": "markdown",
      "metadata": {
        "id": "view-in-github",
        "colab_type": "text"
      },
      "source": [
        "<a href=\"https://colab.research.google.com/github/sagsshakya/Coding-Problems/blob/master/Problems/%20Notebook%20/Absolute_difference_of_diagonals_of_a_square_matrix.ipynb\" target=\"_parent\"><img src=\"https://colab.research.google.com/assets/colab-badge.svg\" alt=\"Open In Colab\"/></a>"
      ]
    },
    {
      "cell_type": "markdown",
      "metadata": {
        "id": "c9426J539_x6"
      },
      "source": [
        "# Absolute difference of diagonals of a square matrix.\n",
        "**Problem Statement**-: Given a square matrix, calculate the absolute difference between the sums of its diagonals.<br>\n",
        "                                        [1 2 3]<br>\n",
        "                                        [4 5 6]<br>\n",
        "                                        [9 8 9]<br>\n",
        "\n",
        "- The left-to-right diagonal = 1+5+9 = 15.\n",
        "- The right to left diagonal = 3+5+9 = 17.\n",
        "- Their absolute difference is |15-17| = 2\n",
        "\n",
        "**Function Description**:\n",
        "\n",
        "diagonalDifference takes the following parameter:\n",
        "\n",
        "    - int arr[n][m]: an array of integers\n",
        "**Input Format**:\n",
        "\n",
        "- The first line contains a single integer, n the number of rows and columns in the square matrix arr.\n",
        "- Each of the next n lines describes a row, arr[i] and consists of n space-separated integers arr[i][j].\n",
        "\n",
        "**Output Format**:\n",
        "\n",
        "- Return the absolute difference between the sums of the matrix’s two diagonals as a single integer.\n",
        " \n",
        "\n",
        "Sample Input:<br>\n",
        "3<br>\n",
        "11 2 4<br>\n",
        "4 5 6<br>\n",
        "10 8 -12<br>\n",
        "\n",
        "Sample Output:\n",
        "\n",
        "     15"
      ]
    },
    {
      "cell_type": "markdown",
      "metadata": {
        "id": "Ljui6zbK_mxQ"
      },
      "source": [
        "### Taking inputs."
      ]
    },
    {
      "cell_type": "code",
      "metadata": {
        "id": "3oI0Ab2G-4WS",
        "outputId": "82e5c821-9111-4275-ba60-c8cbc3aaf94e",
        "colab": {
          "base_uri": "https://localhost:8080/",
          "height": 105
        }
      },
      "source": [
        "n = int(input())\n",
        "arr = []\n",
        "for ii in range(n):\n",
        "    arr.append(list(map(int, input().split())))\n",
        "\n",
        "print(arr)"
      ],
      "execution_count": null,
      "outputs": [
        {
          "output_type": "stream",
          "text": [
            "3\n",
            "11 2 4\n",
            "4 5 6\n",
            "10 8 -12\n",
            "[[11, 2, 4], [4, 5, 6], [10, 8, -12]]\n"
          ],
          "name": "stdout"
        }
      ]
    },
    {
      "cell_type": "code",
      "metadata": {
        "id": "qAD-dUjRM87r"
      },
      "source": [
        "arr = [[11,2,4],[4,5,6],[10,8,-12]]"
      ],
      "execution_count": 12,
      "outputs": []
    },
    {
      "cell_type": "code",
      "metadata": {
        "id": "wxAcbWSV_MHP"
      },
      "source": [
        "def diagonal_difference(arr):\n",
        "    def abs(x):\n",
        "        if x >= 0:\n",
        "            return x\n",
        "        else:\n",
        "            return -x\n",
        "\n",
        "    n = len(arr)\n",
        "    if n == 0 or n == 1:\n",
        "        return 0\n",
        "\n",
        "    else:\n",
        "        sum_prin = 0\n",
        "        sum_nonprin = 0\n",
        "\n",
        "        for ii in range(n-1, -1, -1):\n",
        "            sum_prin += arr[ii][ii]               # Sum across Principle diagonal.\n",
        "            sum_nonprin += arr[n - 1 - ii][ii]    # Sum across non - Principle diagonal.\n",
        "            \n",
        "    return abs(sum_nonprin - sum_prin)"
      ],
      "execution_count": 31,
      "outputs": []
    },
    {
      "cell_type": "code",
      "metadata": {
        "id": "42DoRiWhDIYt",
        "outputId": "92a05a85-7a58-41ab-e43e-0ed37f87154a",
        "colab": {
          "base_uri": "https://localhost:8080/",
          "height": 34
        }
      },
      "source": [
        "diagonal_difference(arr)"
      ],
      "execution_count": 33,
      "outputs": [
        {
          "output_type": "execute_result",
          "data": {
            "text/plain": [
              "15"
            ]
          },
          "metadata": {
            "tags": []
          },
          "execution_count": 33
        }
      ]
    }
  ]
}