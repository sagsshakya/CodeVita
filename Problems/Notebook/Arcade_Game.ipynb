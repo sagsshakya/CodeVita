{
  "nbformat": 4,
  "nbformat_minor": 0,
  "metadata": {
    "colab": {
      "name": "Arcade Game.ipynb",
      "provenance": [],
      "authorship_tag": "ABX9TyMoLa5EIgo0MxZLoS6odPb2",
      "include_colab_link": true
    },
    "kernelspec": {
      "name": "python3",
      "display_name": "Python 3"
    }
  },
  "cells": [
    {
      "cell_type": "markdown",
      "metadata": {
        "id": "view-in-github",
        "colab_type": "text"
      },
      "source": [
        "<a href=\"https://colab.research.google.com/github/sagsshakya/Coding-Problems/blob/master/Problems/Notebook/Arcade_Game.ipynb\" target=\"_parent\"><img src=\"https://colab.research.google.com/assets/colab-badge.svg\" alt=\"Open In Colab\"/></a>"
      ]
    },
    {
      "cell_type": "markdown",
      "metadata": {
        "id": "9qFwGPEqTAm6"
      },
      "source": [
        "# Arcade Game:\n",
        "**Problem Statement**:\n",
        "\n",
        "Chacha is playing an arcade game and wants to climb to the top of the leader board and wants to track her ranking. The game uses Dense Ranking so its leader board works like this:\n",
        "\n",
        "The player with the highest score is ranked number 1 on the leader board.\n",
        "Players who have equal scores receive the same ranking number, and the next player(s) receive the immediately following ranking number.<br>\n",
        "For example, the four players on the leader board have high scores of 100, 90, 90, and 80. Those players will have ranks 1, 2, 2, and 3, respectively. If Chacha’s scores are 70, 80 and 105, her rankings after each game are 4th, 3rd and 1st.\n",
        "\n",
        "**Function Description**:\n",
        "\n",
        "Write a function *climbing*. It should return an integer array where each element res[j] represents Chacha’s rank after the j game.\n",
        "\n",
        "*climbing* has the following parameter(s):\n",
        "\n",
        "    - scores: an array of integers that represent leaderboard scores\n",
        "    - alice: an array of integers that represent Chacha’s scores\n",
        "**Input Format**:\n",
        "\n",
        "- The first line contains an integer n, the number of players on the leaderboard.\n",
        "- The next line contains n space-separated integers scores[i], the leaderboard scores in decreasing order.\n",
        "- The next line contains an integer, m, denoting the number games Chacha plays.\n",
        "- The last line contains m space-separated integers chacha[j], the game scores.\n",
        " \n",
        "\n",
        "Sample Input:\n",
        "\n",
        "      7\n",
        "\n",
        "      100 100 50 40 40 20 10\n",
        "\n",
        "      4\n",
        "\n",
        "      5 25 50 120\n",
        "\n",
        "Sample Output:\n",
        "\n",
        "      6\n",
        "\n",
        "      4\n",
        "\n",
        "      2\n",
        "\n",
        "      1"
      ]
    },
    {
      "cell_type": "markdown",
      "metadata": {
        "id": "ICfr5K4yZzmR"
      },
      "source": [
        "# Prompting for input."
      ]
    },
    {
      "cell_type": "code",
      "metadata": {
        "id": "942-2lUkTqgp",
        "outputId": "239d361b-e3ff-4624-ca06-a134e004d2e0",
        "colab": {
          "base_uri": "https://localhost:8080/",
          "height": 87
        }
      },
      "source": [
        "n = int(input())\n",
        "scores = list(map(int, input().split()))\n",
        "\n",
        "m = int(input())\n",
        "alice = list(map(int, input().split()))"
      ],
      "execution_count": 8,
      "outputs": [
        {
          "output_type": "stream",
          "text": [
            "7\n",
            "100 100 50 40 40 20 10\n",
            "4\n",
            "5 25 50 120\n"
          ],
          "name": "stdout"
        }
      ]
    },
    {
      "cell_type": "markdown",
      "metadata": {
        "id": "OVC6U6NhZ3fO"
      },
      "source": [
        "# Code:"
      ]
    },
    {
      "cell_type": "code",
      "metadata": {
        "id": "d6S1ai65XOYI"
      },
      "source": [
        "def climbing(scores, alice):\n",
        "    temp = set(scores)\n",
        "    result = []\n",
        "    for ii in range(len(alice)):\n",
        "        al = alice[ii]\n",
        "        temp = sorted(set(temp).union({al}), reverse = True)\n",
        "        result.append(temp.index(al) + 1)\n",
        "\n",
        "    return result"
      ],
      "execution_count": 32,
      "outputs": []
    },
    {
      "cell_type": "markdown",
      "metadata": {
        "id": "Ky1OLIo4aqEk"
      },
      "source": [
        "# Execution:"
      ]
    },
    {
      "cell_type": "code",
      "metadata": {
        "id": "9HhJAUpJaH4F",
        "outputId": "80b9da58-9318-4b0a-dff8-6b79c4319906",
        "colab": {
          "base_uri": "https://localhost:8080/",
          "height": 34
        }
      },
      "source": [
        "from time import time\n",
        "start = time()\n",
        "climbing(scores, alice)\n",
        "end = time()\n",
        "\n",
        "print('Time elapsed:', (end - start)*1e+6, 'micro seconds.')"
      ],
      "execution_count": 36,
      "outputs": [
        {
          "output_type": "stream",
          "text": [
            "Time elapsed: 84.87701416015625 micro seconds.\n"
          ],
          "name": "stdout"
        }
      ]
    }
  ]
}