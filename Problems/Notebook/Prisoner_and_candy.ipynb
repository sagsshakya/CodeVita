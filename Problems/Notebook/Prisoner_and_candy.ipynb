{
  "nbformat": 4,
  "nbformat_minor": 0,
  "metadata": {
    "colab": {
      "name": "Prisoner and candy.ipynb",
      "provenance": [],
      "authorship_tag": "ABX9TyM0njYOPOyJV6S7u8CZXL7T",
      "include_colab_link": true
    },
    "kernelspec": {
      "name": "python3",
      "display_name": "Python 3"
    }
  },
  "cells": [
    {
      "cell_type": "markdown",
      "metadata": {
        "id": "view-in-github",
        "colab_type": "text"
      },
      "source": [
        "<a href=\"https://colab.research.google.com/github/sagsshakya/Coding-Problems/blob/master/Problems/Notebook/Prisoner_and_candy.ipynb\" target=\"_parent\"><img src=\"https://colab.research.google.com/assets/colab-badge.svg\" alt=\"Open In Colab\"/></a>"
      ]
    },
    {
      "cell_type": "markdown",
      "metadata": {
        "id": "z3fF_ogniuTe"
      },
      "source": [
        "# Prisoner and candy:\n",
        "**Problem Statement:-** A jail has a number of prisoners and a number of treats to pass out to them. Their jailer decides the fairest way to divide the treats is to seat the prisoners around a circular table in sequentially numbered chairs. A chair number will be drawn from a hat. Beginning with the prisoner in that chair, one candy will be handed to each prisoner sequentially around the table until all have been distributed.\n",
        "\n",
        "The jailer is playing a little joke, though. The last piece of candy looks like all the others, but it tastes awful. Determine the chair number occupied by the prisoner who will receive that candy.\n",
        "\n",
        "For example, there are 4 prisoners and 6 pieces of candy. The prisoners arrange themselves in seats numbered 1 to 4 . Let’s suppose two are drawn from the hat. Prisoners receive candy at positions 2,3,4,1,2,3. The prisoner to be warned sits in chair number 3\n",
        "\n",
        "**Function Description**\n",
        "\n",
        "Write a function saveThePrisoner. It should return an integer representing the chair number of the prisoner to warn.\n",
        "\n",
        "saveThePrisoner has the following parameter(s):\n",
        "\n",
        "    n: an integer, the number of prisoners\n",
        "    m: an integer, the number of sweets\n",
        "    s: an integer, the chair number to begin passing out sweets from\n",
        "\n",
        "**Input Format**\n",
        "\n",
        "The first line contains an integer t, denoting the number of test cases.\n",
        "The next t lines each contain 3 space-separated integers:\n",
        "– : n the number of prisoners\n",
        "– : m the number of sweets\n",
        "– : s the chair number to start passing out treats at \n",
        "\n",
        "**Output Format**\n",
        "\n",
        "For each test case, print the chair number of the prisoner who receives the awful treat on a new line.\n",
        "Sample Input \n",
        "\n",
        "     2\n",
        "     5 2 1\n",
        "     5 2 2\n",
        "\n",
        "**Sample Output**\n",
        "\n",
        "    2\n",
        "    3\n",
        "\n",
        " "
      ]
    },
    {
      "cell_type": "markdown",
      "metadata": {
        "id": "csDWsJFtkDB1"
      },
      "source": [
        "# Getting the input."
      ]
    },
    {
      "cell_type": "code",
      "metadata": {
        "id": "4uVm-li7jxQU",
        "outputId": "80f53634-99bc-4638-9bd2-f00c4879a480",
        "colab": {
          "base_uri": "https://localhost:8080/",
          "height": 70
        }
      },
      "source": [
        "t = int(input())            # Number of test cases.\n",
        "N = []                      # Array to store the number of prisoners.\n",
        "M = []                      # Array to store the number of sweets.\n",
        "S = []                      # Array to store the starting value of the chair number.\n",
        "\n",
        "collect = []\n",
        "for ii in range(t):\n",
        "    n,m,s = tuple(map(int, input().rstrip().split()))\n",
        "    N.append(n)\n",
        "    M.append(m)\n",
        "    S.append(s)\n",
        "\n",
        "    collect.append((n,m,s))\n"
      ],
      "execution_count": 13,
      "outputs": [
        {
          "output_type": "stream",
          "text": [
            "2\n",
            "5 2 1\n",
            "5 2 2\n"
          ],
          "name": "stdout"
        }
      ]
    },
    {
      "cell_type": "markdown",
      "metadata": {
        "id": "A1vSwuPKmPtd"
      },
      "source": [
        "# Code:\n",
        "- We index the chair numbers not as 1,2,3,... but 0,1,2,...\n",
        "- So, whatever the start value is given, we decrease it by 1 and that would be the start.\n",
        "- Remember to increase the index by 1 when returnin the answer.\n"
      ]
    },
    {
      "cell_type": "code",
      "metadata": {
        "id": "NzMh3LRRmquN"
      },
      "source": [
        "def save_the_prisoner(n, m, s):\n",
        "    ''' n -- Number of prisoners.\n",
        "        m -- Number of sweets.\n",
        "        s -- Start value.'''\n",
        "\n",
        "    # Assume we start from 0th chair.\n",
        "    reciever_id = (m % n) - 1\n",
        "\n",
        "    # tranforming because the start value might be different.\n",
        "    reciever_id = (reciever_id + s) % n\n",
        "    return (reciever_id)               "
      ],
      "execution_count": 10,
      "outputs": []
    },
    {
      "cell_type": "code",
      "metadata": {
        "id": "UkIlVoPooKAs",
        "outputId": "be6ae6b2-02c2-48d6-abfb-b4da4ab195f0",
        "colab": {
          "base_uri": "https://localhost:8080/",
          "height": 230
        }
      },
      "source": [
        "for (n,m,s) in collect:\n",
        "    print('Number of Prisoners: ',n)\n",
        "    print('Number of candies: ',m)\n",
        "    print('Start Value: ', s)\n",
        "    print('Output: ')\n",
        "    print(save_the_prisoner(n,m,s))\n",
        "    print()"
      ],
      "execution_count": 17,
      "outputs": [
        {
          "output_type": "stream",
          "text": [
            "Number of Prisoners:  5\n",
            "Number of candies:  2\n",
            "Start Value:  1\n",
            "Output:\n",
            "2\n",
            "\n",
            "Number of Prisoners:  5\n",
            "Number of candies:  2\n",
            "Start Value:  2\n",
            "Output:\n",
            "3\n",
            "\n"
          ],
          "name": "stdout"
        }
      ]
    }
  ]
}