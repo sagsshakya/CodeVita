{
  "nbformat": 4,
  "nbformat_minor": 0,
  "metadata": {
    "colab": {
      "name": "Next Greater Element.ipynb",
      "provenance": [],
      "collapsed_sections": [],
      "authorship_tag": "ABX9TyPaHYxeIWcLuYAlzatnshLh",
      "include_colab_link": true
    },
    "kernelspec": {
      "name": "python3",
      "display_name": "Python 3"
    }
  },
  "cells": [
    {
      "cell_type": "markdown",
      "metadata": {
        "id": "view-in-github",
        "colab_type": "text"
      },
      "source": [
        "<a href=\"https://colab.research.google.com/github/sagsshakya/Coding-Problems/blob/master/%20Problems%20/%20Notebook%20/Next_Greater_Element.ipynb\" target=\"_parent\"><img src=\"https://colab.research.google.com/assets/colab-badge.svg\" alt=\"Open In Colab\"/></a>"
      ]
    },
    {
      "cell_type": "markdown",
      "metadata": {
        "id": "A2zSet5eZdBl"
      },
      "source": [
        "# Next Greater Element.\n",
        "Given an array, print the Next Greater Element (NGE) for every element. The Next greater Element for an element x is the first greater element on the right side of x in array. Elements for which no greater element exist, consider next greater element as -1.\n",
        "\n",
        "Examples:\n",
        "\n",
        "For any array, rightmost element always has next greater element as -1.\n",
        "For an array which is sorted in decreasing order, all elements have next greater element as -1.\n",
        "For the input array [4, 5, 2, 25}, the next greater elements for each element are as follows.\n",
        "\n",
        "    Element       NGE\n",
        "    4      -->   5\n",
        "    5      -->   25\n",
        "    2      -->   25\n",
        "    25     -->   -1"
      ]
    },
    {
      "cell_type": "markdown",
      "metadata": {
        "id": "0s3XXsi6Zm1J"
      },
      "source": [
        "# School Method: Brute force.\n",
        "    Complexity: O(n^2)\n",
        "    "
      ]
    },
    {
      "cell_type": "code",
      "metadata": {
        "id": "-jMpns_lZkxo"
      },
      "source": [
        "import numpy as np\n",
        "np.random.seed(6)"
      ],
      "execution_count": null,
      "outputs": []
    },
    {
      "cell_type": "code",
      "metadata": {
        "id": "0sqBIHezZ4jE",
        "outputId": "c778da08-b267-4fce-e06c-e87fa71254c5",
        "colab": {
          "base_uri": "https://localhost:8080/",
          "height": 34
        }
      },
      "source": [
        "arr = np.random.randint(1,100, (6))\n",
        "arr"
      ],
      "execution_count": null,
      "outputs": [
        {
          "output_type": "execute_result",
          "data": {
            "text/plain": [
              "array([26,  2, 76, 78, 58, 27])"
            ]
          },
          "metadata": {
            "tags": []
          },
          "execution_count": 9
        }
      ]
    },
    {
      "cell_type": "code",
      "metadata": {
        "id": "0os1TyVjaA1m",
        "outputId": "a0dfcd5a-77fc-4363-89d8-d38d8cb4459e",
        "colab": {
          "base_uri": "https://localhost:8080/",
          "height": 34
        }
      },
      "source": [
        "nge = dict()\n",
        "for ii in range(0, len(arr) - 1):\n",
        "    for jj in range(ii, len(arr)):\n",
        "        if arr[jj] > arr[ii]:\n",
        "            nge[arr[ii]] = arr[jj]\n",
        "            break\n",
        "        nge[arr[ii]] = -1               \n",
        "\n",
        "nge[arr[-1]] = -1                       # For the last element.\n",
        "nge\n"
      ],
      "execution_count": null,
      "outputs": [
        {
          "output_type": "execute_result",
          "data": {
            "text/plain": [
              "{2: 76, 26: 76, 27: -1, 58: -1, 76: 78, 78: -1}"
            ]
          },
          "metadata": {
            "tags": []
          },
          "execution_count": 12
        }
      ]
    },
    {
      "cell_type": "markdown",
      "metadata": {
        "id": "d5uvDyqDuaE-"
      },
      "source": [
        "<hr>"
      ]
    },
    {
      "cell_type": "markdown",
      "metadata": {
        "id": "ChZmNOhHcNZ2"
      },
      "source": [
        "# Using Stacks: Efficient Method.\n",
        "    Complexity: O(n)\n",
        "\n",
        "## Algorithm:\n",
        "1. Add the first element of the arr to the stack and traverse the arry one by one.\n",
        "2. Create an empty dictionary.\n",
        "3. While traversing the aray, assign the current element as next and the top element of the stac as top.\n",
        "4. if next <= top:\n",
        "    - Push next to the stack.\n",
        "    - ii += 1\n",
        "<br>else:\n",
        "    - run a while loop till the stack is empty:\n",
        "        - top = stack.pop()\n",
        "        - add the top as a key in the dictionary with the next as value.\n",
        "        - end while.\n",
        "    - push the next to the stack.\n",
        "\n",
        "5. If there are elements left in the stack, assign -1 to all of them.\n",
        "6. Else, end of code."
      ]
    },
    {
      "cell_type": "code",
      "metadata": {
        "id": "z0KMVCpjbXj-"
      },
      "source": [
        "# Defining the stack class to be used later.\n",
        "class Stack:\n",
        "    def __init__(self):\n",
        "        self.data = []\n",
        "\n",
        "    def push(self, value):\n",
        "        self.data.append(value)\n",
        "    \n",
        "    def pop(self):\n",
        "        return self.data.pop()\n",
        "\n",
        "    def peek(self):\n",
        "        if not self.is_empty():\n",
        "            return self.data[-1]\n",
        "        else:\n",
        "            return None\n",
        "\n",
        "    def print(self):\n",
        "        return self.data\n",
        "\n",
        "    def is_empty(self):\n",
        "        return self.data == []"
      ],
      "execution_count": null,
      "outputs": []
    },
    {
      "cell_type": "code",
      "metadata": {
        "id": "GF1Nte2pjVYl"
      },
      "source": [
        "# Main code.\n",
        "stack = Stack()\n",
        "stack.push(arr[0])                          # Push the first element of the array to the stack.\n",
        "nge = dict()\n",
        "\n",
        "for ii in range(1, len(arr)):\n",
        "    next = arr[ii]\n",
        "    top = stack.peek()\n",
        "\n",
        "    if not (next > top):                    # if next <= top.\n",
        "        stack.push(next)\n",
        "        continue\n",
        "    else:                                   # if next > top: our NGE is found for the elements left in the stack.\n",
        "        while stack.is_empty() == False:    # Keep going till the stack is empty.\n",
        "            top = stack.pop()\n",
        "            nge[top] = next\n",
        "        stack.push(next)\n",
        "\n",
        "while True:\n",
        "    if stack.is_empty() == False:\n",
        "        top = stack.pop()\n",
        "        nge[top] = -1\n",
        "    else:\n",
        "        break"
      ],
      "execution_count": null,
      "outputs": []
    },
    {
      "cell_type": "code",
      "metadata": {
        "id": "Ds8ryFQDjdVG",
        "outputId": "0e2a9ba4-14d2-4a86-c385-0ed4773ff7fe",
        "colab": {
          "base_uri": "https://localhost:8080/",
          "height": 141
        }
      },
      "source": [
        "print('Inintial array: ', arr)\n",
        "for key, value in nge.items():\n",
        "    print(key, value)"
      ],
      "execution_count": null,
      "outputs": [
        {
          "output_type": "stream",
          "text": [
            "Inintial array:  [26  2 76 78 58 27]\n",
            "2 76\n",
            "26 76\n",
            "76 78\n",
            "27 -1\n",
            "58 -1\n",
            "78 -1\n"
          ],
          "name": "stdout"
        }
      ]
    }
  ]
}